{
  "cells": [
    {
      "cell_type": "markdown",
      "metadata": {
        "id": "TkJlAblptPbs"
      },
      "source": [
        "## Sprint I"
      ]
    },
    {
      "cell_type": "code",
      "execution_count": null,
      "metadata": {
        "id": "iQHXBP766ILt"
      },
      "outputs": [],
      "source": [
        "#Imports\n",
        "import os\n",
        "import numpy as np\n",
        "import pandas as pd\n",
        "import tensorflow as tf\n",
        "from google.colab import drive"
      ]
    },
    {
      "cell_type": "code",
      "execution_count": null,
      "metadata": {
        "colab": {
          "base_uri": "https://localhost:8080/"
        },
        "id": "D9mMbE0I6mjn",
        "outputId": "40197400-bc93-4f8a-93e4-f806ce5b62e5"
      },
      "outputs": [
        {
          "name": "stdout",
          "output_type": "stream",
          "text": [
            "Mounted at /content/drive\n",
            "Change successful.\n"
          ]
        }
      ],
      "source": [
        "drive.mount('/content/drive',force_remount=True)\n",
        "os.chdir('/content/drive/My Drive')\n",
        "print(\"Change successful.\")"
      ]
    },
    {
      "cell_type": "markdown",
      "metadata": {
        "id": "ys_j-I3-KhH1"
      },
      "source": [
        "####1. Download the Dataset"
      ]
    },
    {
      "cell_type": "markdown",
      "metadata": {
        "id": "E0-jNjg6Ko7o"
      },
      "source": [
        "Google Drive Link: https://drive.google.com/drive/folders/1naE0TQNJUnG0BBXPCWBkT-hNkkN2Hbjl"
      ]
    },
    {
      "cell_type": "markdown",
      "metadata": {
        "id": "nu9OY-WELXJC"
      },
      "source": [
        "###2. Image Preprocessing"
      ]
    },
    {
      "cell_type": "markdown",
      "metadata": {
        "id": "0wYBKsEALclf"
      },
      "source": [
        "####2.1 Import the ImageDataGenerator Library"
      ]
    },
    {
      "cell_type": "code",
      "execution_count": null,
      "metadata": {
        "id": "YW8TYMnT8T7E"
      },
      "outputs": [],
      "source": [
        "from keras.preprocessing.image import ImageDataGenerator"
      ]
    },
    {
      "cell_type": "markdown",
      "metadata": {
        "id": "f5HoX_ukMcR1"
      },
      "source": [
        "####2.2 Configure ImageDataGenerator Class"
      ]
    },
    {
      "cell_type": "code",
      "execution_count": null,
      "metadata": {
        "id": "7OOBj4myLq2t"
      },
      "outputs": [],
      "source": [
        "train_datagen = ImageDataGenerator(rescale=1./255,shear_range=0.2,zoom_range=0.2,horizontal_flip=True)\n",
        "test_datagen = ImageDataGenerator(rescale=1./255)"
      ]
    },
    {
      "cell_type": "markdown",
      "metadata": {
        "id": "2im2i8yFMns8"
      },
      "source": [
        "####2.3 Apply ImageDataGenerator functionality to Trainset and Testset"
      ]
    },
    {
      "cell_type": "code",
      "execution_count": null,
      "metadata": {
        "colab": {
          "base_uri": "https://localhost:8080/"
        },
        "id": "pwp5XVzSMnMJ",
        "outputId": "2422040f-a172-4241-d091-77621db00ff4"
      },
      "outputs": [
        {
          "name": "stdout",
          "output_type": "stream",
          "text": [
            "Found 594 images belonging to 6 classes.\n",
            "Found 30 images belonging to 6 classes.\n"
          ]
        }
      ],
      "source": [
        "x_train = train_datagen.flow_from_directory('./Dataset/train/', target_size=(64, 64), batch_size=5, color_mode='grayscale', class_mode='categorical')\n",
        "x_test = test_datagen.flow_from_directory('./Dataset/test/', target_size=(64, 64), batch_size=5, color_mode='grayscale', class_mode='categorical')"
      ]
    },
    {
      "cell_type": "markdown",
      "metadata": {
        "id": "orIsVu2FND3O"
      },
      "source": [
        "###3. Model Building"
      ]
    },
    {
      "cell_type": "markdown",
      "metadata": {
        "id": "bWd4QbURNFkt"
      },
      "source": [
        "####3.1 Importing the Model Building Libraries"
      ]
    },
    {
      "cell_type": "code",
      "execution_count": null,
      "metadata": {
        "id": "lQ22Tr43NUOu"
      },
      "outputs": [],
      "source": [
        "import numpy as np\n",
        "import tensorflow\n",
        "from tensorflow.keras.models import Sequential\n",
        "from tensorflow.keras import layers\n",
        "from tensorflow.keras.layers import Dense, Flatten\n",
        "from tensorflow.keras.layers import Conv2D, MaxPooling2D\n",
        "from keras.preprocessing.image import ImageDataGenerator"
      ]
    },
    {
      "cell_type": "markdown",
      "metadata": {
        "id": "y2e6gv7CNXY9"
      },
      "source": [
        "####3.2 Initializing the Model"
      ]
    },
    {
      "cell_type": "code",
      "execution_count": null,
      "metadata": {
        "id": "Sm_wLYdONXGy"
      },
      "outputs": [],
      "source": [
        "classifier = Sequential()"
      ]
    },
    {
      "cell_type": "markdown",
      "metadata": {
        "id": "JVXG_wsrNfTd"
      },
      "source": [
        "####3.3 Adding CNN Layers"
      ]
    },
    {
      "cell_type": "code",
      "execution_count": null,
      "metadata": {
        "id": "3w_s3wNXNiVy"
      },
      "outputs": [],
      "source": [
        "classifier.add(Conv2D(32, (3, 3), input_shape=(64, 64, 1) ,activation='relu'))\n",
        "classifier.add(MaxPooling2D(pool_size=(2, 2)))\n",
        "classifier.add(Conv2D(32, (3, 3), activation='relu'))\n",
        "classifier.add(MaxPooling2D(pool_size=(2, 2)))\n",
        "classifier.add(Flatten())"
      ]
    },
    {
      "cell_type": "markdown",
      "metadata": {
        "id": "2SF3LUo5Nn50"
      },
      "source": [
        "####3.4 Adding Dense Layers"
      ]
    },
    {
      "cell_type": "code",
      "execution_count": null,
      "metadata": {
        "id": "Ri0SYCWYNrzH"
      },
      "outputs": [],
      "source": [
        "classifier.add(Dense(units=128, activation='relu'))\n",
        "classifier.add(Dense(units=6, activation='softmax'))"
      ]
    },
    {
      "cell_type": "code",
      "execution_count": null,
      "metadata": {
        "colab": {
          "base_uri": "https://localhost:8080/"
        },
        "id": "vg5aGy1mNz9Y",
        "outputId": "25ee7b05-f62a-4dad-e868-a5fc28fcdd63"
      },
      "outputs": [
        {
          "name": "stdout",
          "output_type": "stream",
          "text": [
            "Model: \"sequential\"\n",
            "_________________________________________________________________\n",
            " Layer (type)                Output Shape              Param #   \n",
            "=================================================================\n",
            " conv2d (Conv2D)             (None, 62, 62, 32)        320       \n",
            "                                                                 \n",
            " max_pooling2d (MaxPooling2D  (None, 31, 31, 32)       0         \n",
            " )                                                               \n",
            "                                                                 \n",
            " conv2d_1 (Conv2D)           (None, 29, 29, 32)        9248      \n",
            "                                                                 \n",
            " max_pooling2d_1 (MaxPooling  (None, 14, 14, 32)       0         \n",
            " 2D)                                                             \n",
            "                                                                 \n",
            " flatten (Flatten)           (None, 6272)              0         \n",
            "                                                                 \n",
            " dense (Dense)               (None, 128)               802944    \n",
            "                                                                 \n",
            " dense_1 (Dense)             (None, 6)                 774       \n",
            "                                                                 \n",
            "=================================================================\n",
            "Total params: 813,286\n",
            "Trainable params: 813,286\n",
            "Non-trainable params: 0\n",
            "_________________________________________________________________\n"
          ]
        }
      ],
      "source": [
        "classifier.summary()"
      ]
    },
    {
      "cell_type": "markdown",
      "metadata": {
        "id": "hrLXCISXNuOA"
      },
      "source": [
        "####3.5 Configure the Learning Process"
      ]
    },
    {
      "cell_type": "code",
      "execution_count": null,
      "metadata": {
        "id": "32uuVOGTN7lY"
      },
      "outputs": [],
      "source": [
        "classifier.compile(optimizer='adam', loss='categorical_crossentropy', metrics=['accuracy'])"
      ]
    },
    {
      "cell_type": "markdown",
      "metadata": {
        "id": "v2p3ItsiOOEd"
      },
      "source": [
        "####3.6 Train the Model"
      ]
    },
    {
      "cell_type": "code",
      "execution_count": null,
      "metadata": {
        "colab": {
          "base_uri": "https://localhost:8080/"
        },
        "id": "f_gh1voON9wD",
        "outputId": "1de8ed8a-dedc-4664-f3f8-8c829a2575f2"
      },
      "outputs": [
        {
          "name": "stderr",
          "output_type": "stream",
          "text": [
            "/usr/local/lib/python3.7/dist-packages/ipykernel_launcher.py:3: UserWarning: `Model.fit_generator` is deprecated and will be removed in a future version. Please use `Model.fit`, which supports generators.\n",
            "  This is separate from the ipykernel package so we can avoid doing imports until\n"
          ]
        },
        {
          "name": "stdout",
          "output_type": "stream",
          "text": [
            "Epoch 1/20\n",
            "119/119 [==============================] - 412s 3s/step - loss: 1.4011 - accuracy: 0.4360 - val_loss: 0.9606 - val_accuracy: 0.7000\n",
            "Epoch 2/20\n",
            "119/119 [==============================] - 2s 14ms/step - loss: 0.7066 - accuracy: 0.7104 - val_loss: 0.4795 - val_accuracy: 0.9000\n",
            "Epoch 3/20\n",
            "119/119 [==============================] - 2s 14ms/step - loss: 0.4872 - accuracy: 0.8081 - val_loss: 0.5594 - val_accuracy: 0.7333\n",
            "Epoch 4/20\n",
            "119/119 [==============================] - 2s 14ms/step - loss: 0.3644 - accuracy: 0.8620 - val_loss: 0.4620 - val_accuracy: 0.8333\n",
            "Epoch 5/20\n",
            "119/119 [==============================] - 2s 14ms/step - loss: 0.3272 - accuracy: 0.8788 - val_loss: 0.3064 - val_accuracy: 0.9333\n",
            "Epoch 6/20\n",
            "119/119 [==============================] - 2s 14ms/step - loss: 0.2232 - accuracy: 0.9141 - val_loss: 0.4789 - val_accuracy: 0.9000\n",
            "Epoch 7/20\n",
            "119/119 [==============================] - 2s 15ms/step - loss: 0.1882 - accuracy: 0.9360 - val_loss: 0.2873 - val_accuracy: 0.9000\n",
            "Epoch 8/20\n",
            "119/119 [==============================] - 2s 14ms/step - loss: 0.1377 - accuracy: 0.9562 - val_loss: 0.2728 - val_accuracy: 0.9667\n",
            "Epoch 9/20\n",
            "119/119 [==============================] - 2s 14ms/step - loss: 0.1122 - accuracy: 0.9731 - val_loss: 0.2976 - val_accuracy: 0.9333\n",
            "Epoch 10/20\n",
            "119/119 [==============================] - 2s 14ms/step - loss: 0.1003 - accuracy: 0.9764 - val_loss: 0.2728 - val_accuracy: 0.9667\n",
            "Epoch 11/20\n",
            "119/119 [==============================] - 2s 15ms/step - loss: 0.0891 - accuracy: 0.9697 - val_loss: 0.3132 - val_accuracy: 0.9333\n",
            "Epoch 12/20\n",
            "119/119 [==============================] - 2s 14ms/step - loss: 0.0556 - accuracy: 0.9865 - val_loss: 0.3483 - val_accuracy: 0.9667\n",
            "Epoch 13/20\n",
            "119/119 [==============================] - 2s 14ms/step - loss: 0.0994 - accuracy: 0.9613 - val_loss: 0.6026 - val_accuracy: 0.8667\n",
            "Epoch 14/20\n",
            "119/119 [==============================] - 2s 14ms/step - loss: 0.0575 - accuracy: 0.9832 - val_loss: 0.2649 - val_accuracy: 0.9667\n",
            "Epoch 15/20\n",
            "119/119 [==============================] - 2s 14ms/step - loss: 0.0734 - accuracy: 0.9747 - val_loss: 0.2859 - val_accuracy: 0.9667\n",
            "Epoch 16/20\n",
            "119/119 [==============================] - 2s 14ms/step - loss: 0.0544 - accuracy: 0.9832 - val_loss: 0.7101 - val_accuracy: 0.8667\n",
            "Epoch 17/20\n",
            "119/119 [==============================] - 2s 14ms/step - loss: 0.0630 - accuracy: 0.9764 - val_loss: 0.4574 - val_accuracy: 0.8667\n",
            "Epoch 18/20\n",
            "119/119 [==============================] - 2s 14ms/step - loss: 0.0581 - accuracy: 0.9798 - val_loss: 0.2312 - val_accuracy: 0.9333\n",
            "Epoch 19/20\n",
            "119/119 [==============================] - 2s 14ms/step - loss: 0.0417 - accuracy: 0.9899 - val_loss: 0.1727 - val_accuracy: 0.9667\n",
            "Epoch 20/20\n",
            "119/119 [==============================] - 2s 14ms/step - loss: 0.0398 - accuracy: 0.9865 - val_loss: 0.0977 - val_accuracy: 0.9667\n"
          ]
        },
        {
          "data": {
            "text/plain": [
              "<keras.callbacks.History at 0x7f92735b2790>"
            ]
          },
          "execution_count": 12,
          "metadata": {},
          "output_type": "execute_result"
        }
      ],
      "source": [
        "classifier.fit_generator(\n",
        "    generator=x_train, steps_per_epoch=len(x_train),\n",
        "    epochs=20, validation_data=x_test, validation_steps=len(x_test)\n",
        ")"
      ]
    },
    {
      "cell_type": "markdown",
      "metadata": {
        "id": "mRAePSF4OQP_"
      },
      "source": [
        "####3.7 Save the Model"
      ]
    },
    {
      "cell_type": "code",
      "execution_count": null,
      "metadata": {
        "id": "2NIQFVo4OId7"
      },
      "outputs": [],
      "source": [
        "classifier.save('gesture.h5')"
      ]
    },
    {
      "cell_type": "code",
      "execution_count": null,
      "metadata": {
        "id": "uN-EJRl7OVda"
      },
      "outputs": [],
      "source": [
        "model_json = classifier.to_json()\n",
        "with open(\"model-bw.json\", \"w\") as f:\n",
        "    f.write(model_json)"
      ]
    },
    {
      "cell_type": "markdown",
      "metadata": {
        "id": "UC2zUlM6OYL8"
      },
      "source": [
        "####3.8 Test the Model"
      ]
    },
    {
      "cell_type": "code",
      "execution_count": null,
      "metadata": {
        "id": "1kSHYGTuOZge"
      },
      "outputs": [],
      "source": [
        "from tensorflow.keras.models import load_model\n",
        "from keras.preprocessing import image\n",
        "model = load_model('gesture.h5')"
      ]
    },
    {
      "cell_type": "code",
      "execution_count": null,
      "metadata": {
        "colab": {
          "base_uri": "https://localhost:8080/"
        },
        "id": "kBjWdSNTOfws",
        "outputId": "b731e03d-86ca-4a96-cf2e-ecbd1f4042cf"
      },
      "outputs": [
        {
          "name": "stdout",
          "output_type": "stream",
          "text": [
            "1/1 [==============================] - 0s 130ms/step\n"
          ]
        },
        {
          "name": "stderr",
          "output_type": "stream",
          "text": [
            "/usr/local/lib/python3.7/dist-packages/keras/utils/image_utils.py:382: UserWarning: grayscale is deprecated. Please use color_mode = \"grayscale\"\n",
            "  warnings.warn('grayscale is deprecated. Please use '\n"
          ]
        }
      ],
      "source": [
        "from tensorflow.keras.utils import load_img, img_to_array\n",
        "img = load_img(\"./Dataset/test/0/0.jpg\", grayscale=True, target_size=(64, 64))\n",
        "x = img_to_array(img)\n",
        "x = np.expand_dims(x,axis=0)\n",
        "pred = model.predict(x)"
      ]
    },
    {
      "cell_type": "code",
      "execution_count": null,
      "metadata": {
        "colab": {
          "base_uri": "https://localhost:8080/"
        },
        "id": "S3dzw8U7Out3",
        "outputId": "4a402706-3091-425e-867f-4200ead665d7"
      },
      "outputs": [
        {
          "data": {
            "text/plain": [
              "array([[1., 0., 0., 0., 0., 0.]], dtype=float32)"
            ]
          },
          "execution_count": 17,
          "metadata": {},
          "output_type": "execute_result"
        }
      ],
      "source": [
        "pred"
      ]
    },
    {
      "cell_type": "code",
      "execution_count": null,
      "metadata": {
        "colab": {
          "base_uri": "https://localhost:8080/"
        },
        "id": "Q9gB3GrzOwRY",
        "outputId": "2f48d37f-540e-4407-de61-c6c60ec67614"
      },
      "outputs": [
        {
          "data": {
            "text/plain": [
              "array([1., 0., 0., 0., 0., 0.], dtype=float32)"
            ]
          },
          "execution_count": 18,
          "metadata": {},
          "output_type": "execute_result"
        }
      ],
      "source": [
        "pred[0]"
      ]
    },
    {
      "cell_type": "markdown",
      "metadata": {
        "id": "MvxED1oPtMcw"
      },
      "source": [
        "## Sprint II"
      ]
    },
    {
      "cell_type": "markdown",
      "metadata": {
        "id": "aT-ylBcktbEB"
      },
      "source": [
        "#### Generate validation data from training data"
      ]
    },
    {
      "cell_type": "code",
      "execution_count": 1,
      "metadata": {
        "id": "ndEc2PXNtOlF"
      },
      "outputs": [],
      "source": [
        "#Imports\n",
        "import os\n",
        "import numpy as np\n",
        "import pandas as pd\n",
        "import tensorflow as tf\n",
        "import numpy as np\n",
        "import tensorflow\n",
        "from tensorflow.keras.models import Sequential\n",
        "from tensorflow.keras import layers\n",
        "from tensorflow.keras.layers import Dense, Flatten\n",
        "from tensorflow.keras.layers import Conv2D, MaxPooling2D\n",
        "from tensorflow.keras.callbacks import EarlyStopping\n",
        "from keras.preprocessing.image import ImageDataGenerator\n",
        "from google.colab import drive"
      ]
    },
    {
      "cell_type": "code",
      "execution_count": 2,
      "metadata": {
        "colab": {
          "base_uri": "https://localhost:8080/"
        },
        "id": "Jeel0X1sxZg9",
        "outputId": "449c3321-61df-4bd2-ba38-1325da40a427"
      },
      "outputs": [
        {
          "name": "stdout",
          "output_type": "stream",
          "text": [
            "Mounted at /content/drive\n",
            "Change successful.\n"
          ]
        }
      ],
      "source": [
        "drive.mount('/content/drive',force_remount=True)\n",
        "os.chdir('/content/drive/My Drive')\n",
        "print(\"Change successful.\")"
      ]
    },
    {
      "cell_type": "code",
      "execution_count": 3,
      "metadata": {
        "id": "FwQeaX2_xbBT"
      },
      "outputs": [],
      "source": [
        "from keras.preprocessing.image import ImageDataGenerator"
      ]
    },
    {
      "cell_type": "code",
      "execution_count": 4,
      "metadata": {
        "id": "f2u2-EpaxdFR"
      },
      "outputs": [],
      "source": [
        "train_datagen = ImageDataGenerator(rescale=1./255,shear_range=0.2,zoom_range=0.2,horizontal_flip=True,validation_split=0.1) #add validation  \n",
        "test_datagen = ImageDataGenerator(rescale=1./255)"
      ]
    },
    {
      "cell_type": "code",
      "execution_count": 5,
      "metadata": {
        "colab": {
          "base_uri": "https://localhost:8080/"
        },
        "id": "MH0S5bvd307J",
        "outputId": "2182786c-4684-4db6-82b3-86039e2733d4"
      },
      "outputs": [
        {
          "name": "stdout",
          "output_type": "stream",
          "text": [
            "Found 540 images belonging to 6 classes.\n",
            "Found 54 images belonging to 6 classes.\n",
            "Found 30 images belonging to 6 classes.\n"
          ]
        }
      ],
      "source": [
        "x_train = train_datagen.flow_from_directory('./Dataset/train/', target_size=(64, 64), batch_size=5, color_mode='grayscale', class_mode='categorical', subset='training')\n",
        "x_val = train_datagen.flow_from_directory('./Dataset/train/', target_size=(64, 64), batch_size=5, color_mode='grayscale', class_mode='categorical', subset='validation')\n",
        "x_test = test_datagen.flow_from_directory('./Dataset/test/', target_size=(64, 64), batch_size=5, color_mode='grayscale', class_mode='categorical')"
      ]
    },
    {
      "cell_type": "code",
      "execution_count": 6,
      "metadata": {
        "id": "2Z_dxJdB4s8U"
      },
      "outputs": [],
      "source": [
        "classifier = Sequential()"
      ]
    },
    {
      "cell_type": "code",
      "execution_count": 7,
      "metadata": {
        "id": "Zyvigz5D469n"
      },
      "outputs": [],
      "source": [
        "classifier.add(Conv2D(32, (3, 3), input_shape=(64, 64, 1) ,activation='relu'))\n",
        "classifier.add(MaxPooling2D(pool_size=(2, 2)))\n",
        "classifier.add(Conv2D(32, (3, 3), activation='relu'))\n",
        "classifier.add(MaxPooling2D(pool_size=(2, 2)))\n",
        "classifier.add(Flatten())"
      ]
    },
    {
      "cell_type": "code",
      "execution_count": 8,
      "metadata": {
        "id": "RhvKxkMP5tpq"
      },
      "outputs": [],
      "source": [
        "classifier.add(Dense(units=128, activation='relu'))\n",
        "classifier.add(Dense(units=6, activation='softmax'))"
      ]
    },
    {
      "cell_type": "code",
      "execution_count": 9,
      "metadata": {
        "colab": {
          "base_uri": "https://localhost:8080/"
        },
        "id": "ZdQmP7Kg5wP-",
        "outputId": "42ee9172-8214-4616-84a1-42446522f5a9"
      },
      "outputs": [
        {
          "name": "stdout",
          "output_type": "stream",
          "text": [
            "Model: \"sequential\"\n",
            "_________________________________________________________________\n",
            " Layer (type)                Output Shape              Param #   \n",
            "=================================================================\n",
            " conv2d (Conv2D)             (None, 62, 62, 32)        320       \n",
            "                                                                 \n",
            " max_pooling2d (MaxPooling2D  (None, 31, 31, 32)       0         \n",
            " )                                                               \n",
            "                                                                 \n",
            " conv2d_1 (Conv2D)           (None, 29, 29, 32)        9248      \n",
            "                                                                 \n",
            " max_pooling2d_1 (MaxPooling  (None, 14, 14, 32)       0         \n",
            " 2D)                                                             \n",
            "                                                                 \n",
            " flatten (Flatten)           (None, 6272)              0         \n",
            "                                                                 \n",
            " dense (Dense)               (None, 128)               802944    \n",
            "                                                                 \n",
            " dense_1 (Dense)             (None, 6)                 774       \n",
            "                                                                 \n",
            "=================================================================\n",
            "Total params: 813,286\n",
            "Trainable params: 813,286\n",
            "Non-trainable params: 0\n",
            "_________________________________________________________________\n"
          ]
        }
      ],
      "source": [
        "classifier.summary()"
      ]
    },
    {
      "cell_type": "code",
      "execution_count": 10,
      "metadata": {
        "id": "9hbzM9GkPMFp"
      },
      "outputs": [],
      "source": [
        "callback = tf.keras.callbacks.EarlyStopping(monitor='val_loss', patience=3)"
      ]
    },
    {
      "cell_type": "code",
      "execution_count": 11,
      "metadata": {
        "id": "SHqO5Kx16u8q"
      },
      "outputs": [],
      "source": [
        "classifier.compile(optimizer='adam', loss='categorical_crossentropy', metrics=['accuracy'])"
      ]
    },
    {
      "cell_type": "code",
      "execution_count": 12,
      "metadata": {
        "colab": {
          "base_uri": "https://localhost:8080/"
        },
        "id": "WG8UshHxNsKr",
        "outputId": "a47b29c9-3a9b-458f-de13-7142fc7f638d"
      },
      "outputs": [
        {
          "name": "stderr",
          "output_type": "stream",
          "text": [
            "/usr/local/lib/python3.7/dist-packages/ipykernel_launcher.py:4: UserWarning: `Model.fit_generator` is deprecated and will be removed in a future version. Please use `Model.fit`, which supports generators.\n",
            "  after removing the cwd from sys.path.\n"
          ]
        },
        {
          "name": "stdout",
          "output_type": "stream",
          "text": [
            "Epoch 1/20\n",
            "108/108 [==============================] - 5s 18ms/step - loss: 1.4476 - accuracy: 0.4111 - val_loss: 0.8179 - val_accuracy: 0.6667\n",
            "Epoch 2/20\n",
            "108/108 [==============================] - 2s 16ms/step - loss: 0.7415 - accuracy: 0.6907 - val_loss: 0.6211 - val_accuracy: 0.7593\n",
            "Epoch 3/20\n",
            "108/108 [==============================] - 2s 17ms/step - loss: 0.4909 - accuracy: 0.7944 - val_loss: 0.4695 - val_accuracy: 0.8519\n",
            "Epoch 4/20\n",
            "108/108 [==============================] - 2s 16ms/step - loss: 0.4156 - accuracy: 0.8370 - val_loss: 0.5925 - val_accuracy: 0.7222\n",
            "Epoch 5/20\n",
            "108/108 [==============================] - 2s 16ms/step - loss: 0.3201 - accuracy: 0.8815 - val_loss: 0.4478 - val_accuracy: 0.9259\n",
            "Epoch 6/20\n",
            "108/108 [==============================] - 2s 16ms/step - loss: 0.2986 - accuracy: 0.8926 - val_loss: 0.3726 - val_accuracy: 0.9074\n",
            "Epoch 7/20\n",
            "108/108 [==============================] - 2s 16ms/step - loss: 0.2276 - accuracy: 0.9389 - val_loss: 0.4499 - val_accuracy: 0.8889\n",
            "Epoch 8/20\n",
            "108/108 [==============================] - 2s 15ms/step - loss: 0.2104 - accuracy: 0.9259 - val_loss: 0.2685 - val_accuracy: 0.9444\n",
            "Epoch 9/20\n",
            "108/108 [==============================] - 2s 16ms/step - loss: 0.1451 - accuracy: 0.9611 - val_loss: 0.4162 - val_accuracy: 0.9074\n",
            "Epoch 10/20\n",
            "108/108 [==============================] - 2s 16ms/step - loss: 0.1008 - accuracy: 0.9648 - val_loss: 0.3698 - val_accuracy: 0.8889\n",
            "Epoch 11/20\n",
            "108/108 [==============================] - 2s 16ms/step - loss: 0.0891 - accuracy: 0.9722 - val_loss: 0.2477 - val_accuracy: 0.9259\n",
            "Epoch 12/20\n",
            "108/108 [==============================] - 2s 15ms/step - loss: 0.0869 - accuracy: 0.9741 - val_loss: 0.4330 - val_accuracy: 0.9074\n",
            "Epoch 13/20\n",
            "108/108 [==============================] - 2s 15ms/step - loss: 0.0809 - accuracy: 0.9667 - val_loss: 0.1769 - val_accuracy: 0.9444\n",
            "Epoch 14/20\n",
            "108/108 [==============================] - 2s 15ms/step - loss: 0.0822 - accuracy: 0.9722 - val_loss: 0.7054 - val_accuracy: 0.8889\n",
            "Epoch 15/20\n",
            "108/108 [==============================] - 2s 15ms/step - loss: 0.0516 - accuracy: 0.9870 - val_loss: 0.3780 - val_accuracy: 0.9074\n",
            "Epoch 16/20\n",
            "108/108 [==============================] - 2s 16ms/step - loss: 0.0691 - accuracy: 0.9778 - val_loss: 0.3715 - val_accuracy: 0.9259\n"
          ]
        },
        {
          "data": {
            "text/plain": [
              "<keras.callbacks.History at 0x7f97e010c150>"
            ]
          },
          "execution_count": 12,
          "metadata": {},
          "output_type": "execute_result"
        }
      ],
      "source": [
        "classifier.fit_generator(\n",
        "    generator=x_train, steps_per_epoch=len(x_train),\n",
        "    epochs=20, validation_data=x_val, validation_steps=len(x_val),\n",
        "    callbacks=[callback]\n",
        ")"
      ]
    },
    {
      "cell_type": "code",
      "execution_count": 13,
      "metadata": {
        "id": "2u72dUDgQl9p"
      },
      "outputs": [],
      "source": [
        "classifier.save('new-gesture.h5')"
      ]
    },
    {
      "cell_type": "code",
      "execution_count": 14,
      "metadata": {
        "id": "cbTOihQbQprL"
      },
      "outputs": [],
      "source": [
        "model_json = classifier.to_json()\n",
        "with open(\"new-model-bw.json\", \"w\") as f:\n",
        "    f.write(model_json)"
      ]
    },
    {
      "cell_type": "code",
      "execution_count": 15,
      "metadata": {
        "id": "meLdnTAMQtvv"
      },
      "outputs": [],
      "source": [
        "from tensorflow.keras.models import load_model\n",
        "from keras.preprocessing import image\n",
        "model = load_model('new-gesture.h5')"
      ]
    },
    {
      "cell_type": "code",
      "execution_count": 16,
      "metadata": {
        "colab": {
          "base_uri": "https://localhost:8080/"
        },
        "id": "nKAIHFESQxWT",
        "outputId": "e8a8da6b-2650-4ca8-84a5-324374954b47"
      },
      "outputs": [
        {
          "name": "stderr",
          "output_type": "stream",
          "text": [
            "/usr/local/lib/python3.7/dist-packages/ipykernel_launcher.py:1: UserWarning: `Model.evaluate_generator` is deprecated and will be removed in a future version. Please use `Model.evaluate`, which supports generators.\n",
            "  \"\"\"Entry point for launching an IPython kernel.\n"
          ]
        }
      ],
      "source": [
        "loss, acc = model.evaluate_generator(x_test, steps=3, verbose=0)"
      ]
    },
    {
      "cell_type": "code",
      "execution_count": 17,
      "metadata": {
        "colab": {
          "base_uri": "https://localhost:8080/"
        },
        "id": "ls3zfA10SZuW",
        "outputId": "a451e936-aa95-4802-ee70-ad11aa7e364e"
      },
      "outputs": [
        {
          "name": "stdout",
          "output_type": "stream",
          "text": [
            "Accuracy:  0.8666666746139526\n"
          ]
        }
      ],
      "source": [
        "print(\"Accuracy: \", acc)"
      ]
    },
    {
      "cell_type": "code",
      "execution_count": 18,
      "metadata": {
        "colab": {
          "base_uri": "https://localhost:8080/"
        },
        "id": "mmUugtC7SfZ4",
        "outputId": "e57e67cc-00a2-4169-9aa3-3cad7d9e76cc"
      },
      "outputs": [
        {
          "name": "stdout",
          "output_type": "stream",
          "text": [
            "Loss:  0.37146133184432983\n"
          ]
        }
      ],
      "source": [
        "print(\"Loss: \", loss)"
      ]
    }
  ],
  "metadata": {
    "accelerator": "GPU",
    "colab": {
      "collapsed_sections": [],
      "provenance": []
    },
    "gpuClass": "standard",
    "kernelspec": {
      "display_name": "Python 3",
      "name": "python3"
    },
    "language_info": {
      "name": "python"
    }
  },
  "nbformat": 4,
  "nbformat_minor": 0
}
