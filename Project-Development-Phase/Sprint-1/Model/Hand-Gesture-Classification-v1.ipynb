{
  "cells": [
    {
      "cell_type": "code",
      "execution_count": 1,
      "metadata": {
        "id": "iQHXBP766ILt"
      },
      "outputs": [],
      "source": [
        "#Imports\n",
        "import os\n",
        "import numpy as np\n",
        "import pandas as pd\n",
        "import tensorflow as tf\n",
        "from google.colab import drive"
      ]
    },
    {
      "cell_type": "code",
      "execution_count": 2,
      "metadata": {
        "colab": {
          "base_uri": "https://localhost:8080/"
        },
        "id": "D9mMbE0I6mjn",
        "outputId": "7d23487b-2b77-45ca-9251-dd29a0d37da9"
      },
      "outputs": [
        {
          "name": "stdout",
          "output_type": "stream",
          "text": [
            "Mounted at /content/drive\n",
            "Change successful.\n"
          ]
        }
      ],
      "source": [
        "drive.mount('/content/drive',force_remount=True)\n",
        "os.chdir('/content/drive/My Drive')\n",
        "print(\"Change successful.\")"
      ]
    },
    {
      "cell_type": "markdown",
      "metadata": {
        "id": "ys_j-I3-KhH1"
      },
      "source": [
        "#### 1. Download the Dataset"
      ]
    },
    {
      "cell_type": "markdown",
      "metadata": {
        "id": "E0-jNjg6Ko7o"
      },
      "source": [
        "Google Drive Link: https://drive.google.com/drive/folders/1naE0TQNJUnG0BBXPCWBkT-hNkkN2Hbjl"
      ]
    },
    {
      "cell_type": "markdown",
      "metadata": {
        "id": "nu9OY-WELXJC"
      },
      "source": [
        "### 2. Image Preprocessing"
      ]
    },
    {
      "cell_type": "markdown",
      "metadata": {
        "id": "0wYBKsEALclf"
      },
      "source": [
        "#### 2.1 Import the ImageDataGenerator Library"
      ]
    },
    {
      "cell_type": "code",
      "execution_count": 3,
      "metadata": {
        "id": "YW8TYMnT8T7E"
      },
      "outputs": [],
      "source": [
        "from keras.preprocessing.image import ImageDataGenerator"
      ]
    },
    {
      "cell_type": "markdown",
      "metadata": {
        "id": "f5HoX_ukMcR1"
      },
      "source": [
        "#### 2.2 Configure ImageDataGenerator Class"
      ]
    },
    {
      "cell_type": "code",
      "execution_count": 4,
      "metadata": {
        "id": "7OOBj4myLq2t"
      },
      "outputs": [],
      "source": [
        "train_datagen = ImageDataGenerator(rescale=1./255,shear_range=0.2,zoom_range=0.2,horizontal_flip=True)\n",
        "test_datagen = ImageDataGenerator(rescale=1./255)"
      ]
    },
    {
      "cell_type": "markdown",
      "metadata": {
        "id": "2im2i8yFMns8"
      },
      "source": [
        "#### 2.3 Apply ImageDataGenerator functionality to Trainset and Testset"
      ]
    },
    {
      "cell_type": "code",
      "execution_count": 5,
      "metadata": {
        "colab": {
          "base_uri": "https://localhost:8080/"
        },
        "id": "pwp5XVzSMnMJ",
        "outputId": "14caf2a4-1f78-445e-8e0a-aebb5c4d0cff"
      },
      "outputs": [
        {
          "name": "stdout",
          "output_type": "stream",
          "text": [
            "Found 594 images belonging to 6 classes.\n",
            "Found 30 images belonging to 6 classes.\n"
          ]
        }
      ],
      "source": [
        "x_train = train_datagen.flow_from_directory('./Dataset/train/', target_size=(64, 64), batch_size=5, color_mode='grayscale', class_mode='categorical')\n",
        "x_test = test_datagen.flow_from_directory('./Dataset/test/', target_size=(64, 64), batch_size=5, color_mode='grayscale', class_mode='categorical')"
      ]
    },
    {
      "cell_type": "markdown",
      "metadata": {
        "id": "orIsVu2FND3O"
      },
      "source": [
        "### 3. Model Building"
      ]
    },
    {
      "cell_type": "markdown",
      "metadata": {
        "id": "bWd4QbURNFkt"
      },
      "source": [
        "#### 3.1 Importing the Model Building Libraries"
      ]
    },
    {
      "cell_type": "code",
      "execution_count": 6,
      "metadata": {
        "id": "lQ22Tr43NUOu"
      },
      "outputs": [],
      "source": [
        "import numpy as np\n",
        "import tensorflow\n",
        "from tensorflow.keras.models import Sequential\n",
        "from tensorflow.keras import layers\n",
        "from tensorflow.keras.layers import Dense, Flatten\n",
        "from tensorflow.keras.layers import Conv2D, MaxPooling2D\n",
        "from keras.preprocessing.image import ImageDataGenerator"
      ]
    },
    {
      "cell_type": "markdown",
      "metadata": {
        "id": "y2e6gv7CNXY9"
      },
      "source": [
        "#### 3.2 Initializing the Model"
      ]
    },
    {
      "cell_type": "code",
      "execution_count": 7,
      "metadata": {
        "id": "Sm_wLYdONXGy"
      },
      "outputs": [],
      "source": [
        "classifier = Sequential()"
      ]
    },
    {
      "cell_type": "markdown",
      "metadata": {
        "id": "JVXG_wsrNfTd"
      },
      "source": [
        "#### 3.3 Adding CNN Layers"
      ]
    },
    {
      "cell_type": "code",
      "execution_count": 8,
      "metadata": {
        "id": "3w_s3wNXNiVy"
      },
      "outputs": [],
      "source": [
        "classifier.add(Conv2D(32, (3, 3), input_shape=(64, 64, 1) ,activation='relu'))\n",
        "classifier.add(MaxPooling2D(pool_size=(2, 2)))\n",
        "classifier.add(Conv2D(32, (3, 3), activation='relu'))\n",
        "classifier.add(MaxPooling2D(pool_size=(2, 2)))\n",
        "classifier.add(Flatten())"
      ]
    },
    {
      "cell_type": "markdown",
      "metadata": {
        "id": "2SF3LUo5Nn50"
      },
      "source": [
        "#### 3.4 Adding Dense Layers"
      ]
    },
    {
      "cell_type": "code",
      "execution_count": 9,
      "metadata": {
        "id": "Ri0SYCWYNrzH"
      },
      "outputs": [],
      "source": [
        "classifier.add(Dense(units=128, activation='relu'))\n",
        "classifier.add(Dense(units=6, activation='softmax'))"
      ]
    },
    {
      "cell_type": "code",
      "execution_count": 10,
      "metadata": {
        "colab": {
          "base_uri": "https://localhost:8080/"
        },
        "id": "vg5aGy1mNz9Y",
        "outputId": "9a45162e-f58c-4686-ab90-776041162f03"
      },
      "outputs": [
        {
          "name": "stdout",
          "output_type": "stream",
          "text": [
            "Model: \"sequential\"\n",
            "_________________________________________________________________\n",
            " Layer (type)                Output Shape              Param #   \n",
            "=================================================================\n",
            " conv2d (Conv2D)             (None, 62, 62, 32)        320       \n",
            "                                                                 \n",
            " max_pooling2d (MaxPooling2D  (None, 31, 31, 32)       0         \n",
            " )                                                               \n",
            "                                                                 \n",
            " conv2d_1 (Conv2D)           (None, 29, 29, 32)        9248      \n",
            "                                                                 \n",
            " max_pooling2d_1 (MaxPooling  (None, 14, 14, 32)       0         \n",
            " 2D)                                                             \n",
            "                                                                 \n",
            " flatten (Flatten)           (None, 6272)              0         \n",
            "                                                                 \n",
            " dense (Dense)               (None, 128)               802944    \n",
            "                                                                 \n",
            " dense_1 (Dense)             (None, 6)                 774       \n",
            "                                                                 \n",
            "=================================================================\n",
            "Total params: 813,286\n",
            "Trainable params: 813,286\n",
            "Non-trainable params: 0\n",
            "_________________________________________________________________\n"
          ]
        }
      ],
      "source": [
        "classifier.summary()"
      ]
    },
    {
      "cell_type": "markdown",
      "metadata": {
        "id": "hrLXCISXNuOA"
      },
      "source": [
        "#### 3.5 Configure the Learning Process"
      ]
    },
    {
      "cell_type": "code",
      "execution_count": 11,
      "metadata": {
        "id": "32uuVOGTN7lY"
      },
      "outputs": [],
      "source": [
        "classifier.compile(optimizer='adam', loss='categorical_crossentropy', metrics=['accuracy'])"
      ]
    },
    {
      "cell_type": "markdown",
      "metadata": {
        "id": "v2p3ItsiOOEd"
      },
      "source": [
        "#### 3.6 Train the Model"
      ]
    },
    {
      "cell_type": "code",
      "execution_count": 12,
      "metadata": {
        "colab": {
          "base_uri": "https://localhost:8080/"
        },
        "id": "f_gh1voON9wD",
        "outputId": "276fd9cb-6208-411e-af45-ce2d4188fae9"
      },
      "outputs": [
        {
          "name": "stderr",
          "output_type": "stream",
          "text": [
            "/usr/local/lib/python3.7/dist-packages/ipykernel_launcher.py:3: UserWarning: `Model.fit_generator` is deprecated and will be removed in a future version. Please use `Model.fit`, which supports generators.\n",
            "  This is separate from the ipykernel package so we can avoid doing imports until\n"
          ]
        },
        {
          "name": "stdout",
          "output_type": "stream",
          "text": [
            "Epoch 1/20\n",
            "119/119 [==============================] - 337s 3s/step - loss: 1.5719 - accuracy: 0.3519 - val_loss: 1.0620 - val_accuracy: 0.5333\n",
            "Epoch 2/20\n",
            "119/119 [==============================] - 2s 15ms/step - loss: 0.8070 - accuracy: 0.6919 - val_loss: 0.6907 - val_accuracy: 0.7000\n",
            "Epoch 3/20\n",
            "119/119 [==============================] - 2s 15ms/step - loss: 0.4849 - accuracy: 0.8283 - val_loss: 0.3657 - val_accuracy: 0.9000\n",
            "Epoch 4/20\n",
            "119/119 [==============================] - 2s 15ms/step - loss: 0.3788 - accuracy: 0.8687 - val_loss: 0.3715 - val_accuracy: 0.9000\n",
            "Epoch 5/20\n",
            "119/119 [==============================] - 2s 15ms/step - loss: 0.2111 - accuracy: 0.9360 - val_loss: 0.3378 - val_accuracy: 0.9333\n",
            "Epoch 6/20\n",
            "119/119 [==============================] - 2s 15ms/step - loss: 0.2193 - accuracy: 0.9226 - val_loss: 0.2842 - val_accuracy: 0.9333\n",
            "Epoch 7/20\n",
            "119/119 [==============================] - 2s 15ms/step - loss: 0.1718 - accuracy: 0.9394 - val_loss: 0.2279 - val_accuracy: 0.9000\n",
            "Epoch 8/20\n",
            "119/119 [==============================] - 2s 15ms/step - loss: 0.1584 - accuracy: 0.9428 - val_loss: 0.2579 - val_accuracy: 0.9333\n",
            "Epoch 9/20\n",
            "119/119 [==============================] - 2s 15ms/step - loss: 0.1227 - accuracy: 0.9562 - val_loss: 0.1827 - val_accuracy: 0.9667\n",
            "Epoch 10/20\n",
            "119/119 [==============================] - 2s 15ms/step - loss: 0.0847 - accuracy: 0.9731 - val_loss: 0.1996 - val_accuracy: 0.9667\n",
            "Epoch 11/20\n",
            "119/119 [==============================] - 2s 15ms/step - loss: 0.0951 - accuracy: 0.9663 - val_loss: 0.2217 - val_accuracy: 0.9333\n",
            "Epoch 12/20\n",
            "119/119 [==============================] - 2s 16ms/step - loss: 0.0635 - accuracy: 0.9815 - val_loss: 0.2520 - val_accuracy: 0.9333\n",
            "Epoch 13/20\n",
            "119/119 [==============================] - 2s 16ms/step - loss: 0.0399 - accuracy: 0.9865 - val_loss: 0.2783 - val_accuracy: 0.9333\n",
            "Epoch 14/20\n",
            "119/119 [==============================] - 2s 16ms/step - loss: 0.0419 - accuracy: 0.9848 - val_loss: 0.1561 - val_accuracy: 0.9333\n",
            "Epoch 15/20\n",
            "119/119 [==============================] - 2s 15ms/step - loss: 0.0614 - accuracy: 0.9764 - val_loss: 0.3818 - val_accuracy: 0.9333\n",
            "Epoch 16/20\n",
            "119/119 [==============================] - 2s 15ms/step - loss: 0.0987 - accuracy: 0.9697 - val_loss: 0.6970 - val_accuracy: 0.8333\n",
            "Epoch 17/20\n",
            "119/119 [==============================] - 2s 15ms/step - loss: 0.0382 - accuracy: 0.9933 - val_loss: 0.1877 - val_accuracy: 0.9667\n",
            "Epoch 18/20\n",
            "119/119 [==============================] - 2s 15ms/step - loss: 0.0152 - accuracy: 0.9983 - val_loss: 0.3087 - val_accuracy: 0.9667\n",
            "Epoch 19/20\n",
            "119/119 [==============================] - 2s 15ms/step - loss: 0.0137 - accuracy: 0.9966 - val_loss: 0.2940 - val_accuracy: 0.9667\n",
            "Epoch 20/20\n",
            "119/119 [==============================] - 2s 15ms/step - loss: 0.0275 - accuracy: 0.9949 - val_loss: 0.2426 - val_accuracy: 0.9667\n"
          ]
        },
        {
          "data": {
            "text/plain": [
              "<keras.callbacks.History at 0x7fa8c02a9c90>"
            ]
          },
          "execution_count": 12,
          "metadata": {},
          "output_type": "execute_result"
        }
      ],
      "source": [
        "classifier.fit_generator(\n",
        "    generator=x_train, steps_per_epoch=len(x_train),\n",
        "    epochs=20, validation_data=x_test, validation_steps=len(x_test)\n",
        ")"
      ]
    },
    {
      "cell_type": "markdown",
      "metadata": {
        "id": "mRAePSF4OQP_"
      },
      "source": [
        "#### 3.7 Save the Model"
      ]
    },
    {
      "cell_type": "code",
      "execution_count": 13,
      "metadata": {
        "id": "2NIQFVo4OId7"
      },
      "outputs": [],
      "source": [
        "classifier.save('gesture.h5')"
      ]
    },
    {
      "cell_type": "code",
      "execution_count": 14,
      "metadata": {
        "id": "uN-EJRl7OVda"
      },
      "outputs": [],
      "source": [
        "model_json = classifier.to_json()\n",
        "with open(\"model-bw.json\", \"w\") as f:\n",
        "    f.write(model_json)"
      ]
    },
    {
      "cell_type": "markdown",
      "metadata": {
        "id": "UC2zUlM6OYL8"
      },
      "source": [
        "#### 3.8 Test the Model"
      ]
    },
    {
      "cell_type": "code",
      "execution_count": 15,
      "metadata": {
        "id": "1kSHYGTuOZge"
      },
      "outputs": [],
      "source": [
        "from tensorflow.keras.models import load_model\n",
        "from keras.preprocessing import image\n",
        "model = load_model('gesture.h5')"
      ]
    },
    {
      "cell_type": "code",
      "execution_count": 16,
      "metadata": {
        "colab": {
          "base_uri": "https://localhost:8080/"
        },
        "id": "kBjWdSNTOfws",
        "outputId": "535da987-8bac-4fa4-fbbb-bb0831f2787f"
      },
      "outputs": [
        {
          "name": "stdout",
          "output_type": "stream",
          "text": [
            "1/1 [==============================] - 0s 123ms/step\n"
          ]
        },
        {
          "name": "stderr",
          "output_type": "stream",
          "text": [
            "/usr/local/lib/python3.7/dist-packages/keras/utils/image_utils.py:382: UserWarning: grayscale is deprecated. Please use color_mode = \"grayscale\"\n",
            "  warnings.warn('grayscale is deprecated. Please use '\n"
          ]
        }
      ],
      "source": [
        "from tensorflow.keras.utils import load_img, img_to_array\n",
        "img = load_img(\"./Dataset/test/0/0.jpg\", grayscale=True, target_size=(64, 64))\n",
        "x = img_to_array(img)\n",
        "x = np.expand_dims(x,axis=0)\n",
        "pred = model.predict(x)"
      ]
    },
    {
      "cell_type": "code",
      "execution_count": 17,
      "metadata": {
        "colab": {
          "base_uri": "https://localhost:8080/"
        },
        "id": "S3dzw8U7Out3",
        "outputId": "c7184d79-7169-4a4c-d4ae-bb565064afc5"
      },
      "outputs": [
        {
          "data": {
            "text/plain": [
              "array([[1., 0., 0., 0., 0., 0.]], dtype=float32)"
            ]
          },
          "execution_count": 17,
          "metadata": {},
          "output_type": "execute_result"
        }
      ],
      "source": [
        "pred"
      ]
    },
    {
      "cell_type": "code",
      "execution_count": 18,
      "metadata": {
        "colab": {
          "base_uri": "https://localhost:8080/"
        },
        "id": "Q9gB3GrzOwRY",
        "outputId": "446c1d41-a433-4e27-81f0-d7dc1d763554"
      },
      "outputs": [
        {
          "data": {
            "text/plain": [
              "array([1., 0., 0., 0., 0., 0.], dtype=float32)"
            ]
          },
          "execution_count": 18,
          "metadata": {},
          "output_type": "execute_result"
        }
      ],
      "source": [
        "pred[0]"
      ]
    }
  ],
  "metadata": {
    "accelerator": "GPU",
    "colab": {
      "collapsed_sections": [],
      "provenance": []
    },
    "gpuClass": "standard",
    "kernelspec": {
      "display_name": "Python 3.9.0 64-bit",
      "language": "python",
      "name": "python3"
    },
    "language_info": {
      "name": "python",
      "version": "3.9.0"
    },
    "vscode": {
      "interpreter": {
        "hash": "67f1dc6f6f712f7142079021955b91e049abb319dcfdc9eed010dd73dd4d845d"
      }
    }
  },
  "nbformat": 4,
  "nbformat_minor": 0
}
