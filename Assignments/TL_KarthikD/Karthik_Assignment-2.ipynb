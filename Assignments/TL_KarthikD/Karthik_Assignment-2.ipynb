{
  "cells": [
    {
      "cell_type": "markdown",
      "metadata": {
        "id": "HOwnltBBp3QS"
      },
      "source": [
        "# Assignment 2"
      ]
    },
    {
      "cell_type": "markdown",
      "metadata": {
        "id": "RN9kqLwxp3Qf"
      },
      "source": [
        "## 1. Download the Dataset\n",
        "\n",
        "[Churn Modeling](https://drive.google.com/file/d/1_HcM0K8wt4b7FMLkc1V1dv0y6I_9ULzy/view)"
      ]
    },
    {
      "cell_type": "code",
      "source": [
        "!wget --user-agent=\"Mozilla/5.0 (Windows NT 10.0; WOW64) AppleWebKit/537.36 (KHTML, like Gecko) Chrome/51.0.2704.103 Safari/537.36\" \"https://doc-14-ac-docs.googleusercontent.com/docs/securesc/gdpdb0igkbt4ar76inmqm466kdfjufk5/fmtu107f9e9nldlptne05n58qr1lkbc4/1664328825000/05151630273286465793/15363333525136285584Z/1_HcM0K8wt4b7FMLkc1V1dv0y6I_9ULzy?e=download&uuid=6bc55a47-24fa-4498-b84a-82afd8e00b38\""
      ],
      "metadata": {
        "colab": {
          "base_uri": "https://localhost:8080/"
        },
        "id": "JWTu_Mn2uwJd",
        "outputId": "eae20658-66a6-4acc-f587-74edd9ca1499"
      },
      "execution_count": 1,
      "outputs": [
        {
          "output_type": "stream",
          "name": "stdout",
          "text": [
            "--2022-09-29 05:15:30--  https://doc-14-ac-docs.googleusercontent.com/docs/securesc/gdpdb0igkbt4ar76inmqm466kdfjufk5/fmtu107f9e9nldlptne05n58qr1lkbc4/1664328825000/05151630273286465793/15363333525136285584Z/1_HcM0K8wt4b7FMLkc1V1dv0y6I_9ULzy?e=download&uuid=6bc55a47-24fa-4498-b84a-82afd8e00b38\n",
            "Resolving doc-14-ac-docs.googleusercontent.com (doc-14-ac-docs.googleusercontent.com)... 142.250.157.132, 2404:6800:4008:c13::84\n",
            "Connecting to doc-14-ac-docs.googleusercontent.com (doc-14-ac-docs.googleusercontent.com)|142.250.157.132|:443... connected.\n",
            "HTTP request sent, awaiting response... 403 Forbidden\n",
            "2022-09-29 05:15:31 ERROR 403: Forbidden.\n",
            "\n"
          ]
        }
      ]
    },
    {
      "cell_type": "markdown",
      "metadata": {
        "id": "lSw59Fhdp3Qi"
      },
      "source": [
        "## 2. Load the Dataset"
      ]
    },
    {
      "cell_type": "code",
      "execution_count": 2,
      "metadata": {
        "id": "Nr08iMZWp3Qj"
      },
      "outputs": [],
      "source": [
        "import pandas as pd\n",
        "import numpy as np\n",
        "from sklearn.model_selection import train_test_split\n",
        "from sklearn.preprocessing import StandardScaler\n",
        "import matplotlib.pyplot as plt\n",
        "import seaborn as sns\n",
        "%matplotlib inline"
      ]
    },
    {
      "cell_type": "code",
      "source": [
        "from google.colab import drive\n",
        "drive.mount('/content/drive')"
      ],
      "metadata": {
        "colab": {
          "base_uri": "https://localhost:8080/"
        },
        "id": "VFhNT6kBv9dV",
        "outputId": "dd42c799-d593-4b90-9b78-93378ad78131"
      },
      "execution_count": 3,
      "outputs": [
        {
          "output_type": "stream",
          "name": "stdout",
          "text": [
            "Mounted at /content/drive\n"
          ]
        }
      ]
    },
    {
      "cell_type": "code",
      "execution_count": 4,
      "metadata": {
        "colab": {
          "base_uri": "https://localhost:8080/",
          "height": 206
        },
        "id": "P8K8r6rbp3Qo",
        "outputId": "9e96e32b-2a40-4606-dbfb-62192eba9281"
      },
      "outputs": [
        {
          "output_type": "execute_result",
          "data": {
            "text/plain": [
              "   RowNumber  CustomerId   Surname  CreditScore Geography  Gender  Age  \\\n",
              "0          1    15634602  Hargrave          619    France  Female   42   \n",
              "1          2    15647311      Hill          608     Spain  Female   41   \n",
              "2          3    15619304      Onio          502    France  Female   42   \n",
              "3          4    15701354      Boni          699    France  Female   39   \n",
              "4          5    15737888  Mitchell          850     Spain  Female   43   \n",
              "\n",
              "   Tenure    Balance  NumOfProducts  HasCrCard  IsActiveMember  \\\n",
              "0       2       0.00              1          1               1   \n",
              "1       1   83807.86              1          0               1   \n",
              "2       8  159660.80              3          1               0   \n",
              "3       1       0.00              2          0               0   \n",
              "4       2  125510.82              1          1               1   \n",
              "\n",
              "   EstimatedSalary  Exited  \n",
              "0        101348.88       1  \n",
              "1        112542.58       0  \n",
              "2        113931.57       1  \n",
              "3         93826.63       0  \n",
              "4         79084.10       0  "
            ],
            "text/html": [
              "\n",
              "  <div id=\"df-7e500c63-5a8c-484a-8229-1279acc1cc03\">\n",
              "    <div class=\"colab-df-container\">\n",
              "      <div>\n",
              "<style scoped>\n",
              "    .dataframe tbody tr th:only-of-type {\n",
              "        vertical-align: middle;\n",
              "    }\n",
              "\n",
              "    .dataframe tbody tr th {\n",
              "        vertical-align: top;\n",
              "    }\n",
              "\n",
              "    .dataframe thead th {\n",
              "        text-align: right;\n",
              "    }\n",
              "</style>\n",
              "<table border=\"1\" class=\"dataframe\">\n",
              "  <thead>\n",
              "    <tr style=\"text-align: right;\">\n",
              "      <th></th>\n",
              "      <th>RowNumber</th>\n",
              "      <th>CustomerId</th>\n",
              "      <th>Surname</th>\n",
              "      <th>CreditScore</th>\n",
              "      <th>Geography</th>\n",
              "      <th>Gender</th>\n",
              "      <th>Age</th>\n",
              "      <th>Tenure</th>\n",
              "      <th>Balance</th>\n",
              "      <th>NumOfProducts</th>\n",
              "      <th>HasCrCard</th>\n",
              "      <th>IsActiveMember</th>\n",
              "      <th>EstimatedSalary</th>\n",
              "      <th>Exited</th>\n",
              "    </tr>\n",
              "  </thead>\n",
              "  <tbody>\n",
              "    <tr>\n",
              "      <th>0</th>\n",
              "      <td>1</td>\n",
              "      <td>15634602</td>\n",
              "      <td>Hargrave</td>\n",
              "      <td>619</td>\n",
              "      <td>France</td>\n",
              "      <td>Female</td>\n",
              "      <td>42</td>\n",
              "      <td>2</td>\n",
              "      <td>0.00</td>\n",
              "      <td>1</td>\n",
              "      <td>1</td>\n",
              "      <td>1</td>\n",
              "      <td>101348.88</td>\n",
              "      <td>1</td>\n",
              "    </tr>\n",
              "    <tr>\n",
              "      <th>1</th>\n",
              "      <td>2</td>\n",
              "      <td>15647311</td>\n",
              "      <td>Hill</td>\n",
              "      <td>608</td>\n",
              "      <td>Spain</td>\n",
              "      <td>Female</td>\n",
              "      <td>41</td>\n",
              "      <td>1</td>\n",
              "      <td>83807.86</td>\n",
              "      <td>1</td>\n",
              "      <td>0</td>\n",
              "      <td>1</td>\n",
              "      <td>112542.58</td>\n",
              "      <td>0</td>\n",
              "    </tr>\n",
              "    <tr>\n",
              "      <th>2</th>\n",
              "      <td>3</td>\n",
              "      <td>15619304</td>\n",
              "      <td>Onio</td>\n",
              "      <td>502</td>\n",
              "      <td>France</td>\n",
              "      <td>Female</td>\n",
              "      <td>42</td>\n",
              "      <td>8</td>\n",
              "      <td>159660.80</td>\n",
              "      <td>3</td>\n",
              "      <td>1</td>\n",
              "      <td>0</td>\n",
              "      <td>113931.57</td>\n",
              "      <td>1</td>\n",
              "    </tr>\n",
              "    <tr>\n",
              "      <th>3</th>\n",
              "      <td>4</td>\n",
              "      <td>15701354</td>\n",
              "      <td>Boni</td>\n",
              "      <td>699</td>\n",
              "      <td>France</td>\n",
              "      <td>Female</td>\n",
              "      <td>39</td>\n",
              "      <td>1</td>\n",
              "      <td>0.00</td>\n",
              "      <td>2</td>\n",
              "      <td>0</td>\n",
              "      <td>0</td>\n",
              "      <td>93826.63</td>\n",
              "      <td>0</td>\n",
              "    </tr>\n",
              "    <tr>\n",
              "      <th>4</th>\n",
              "      <td>5</td>\n",
              "      <td>15737888</td>\n",
              "      <td>Mitchell</td>\n",
              "      <td>850</td>\n",
              "      <td>Spain</td>\n",
              "      <td>Female</td>\n",
              "      <td>43</td>\n",
              "      <td>2</td>\n",
              "      <td>125510.82</td>\n",
              "      <td>1</td>\n",
              "      <td>1</td>\n",
              "      <td>1</td>\n",
              "      <td>79084.10</td>\n",
              "      <td>0</td>\n",
              "    </tr>\n",
              "  </tbody>\n",
              "</table>\n",
              "</div>\n",
              "      <button class=\"colab-df-convert\" onclick=\"convertToInteractive('df-7e500c63-5a8c-484a-8229-1279acc1cc03')\"\n",
              "              title=\"Convert this dataframe to an interactive table.\"\n",
              "              style=\"display:none;\">\n",
              "        \n",
              "  <svg xmlns=\"http://www.w3.org/2000/svg\" height=\"24px\"viewBox=\"0 0 24 24\"\n",
              "       width=\"24px\">\n",
              "    <path d=\"M0 0h24v24H0V0z\" fill=\"none\"/>\n",
              "    <path d=\"M18.56 5.44l.94 2.06.94-2.06 2.06-.94-2.06-.94-.94-2.06-.94 2.06-2.06.94zm-11 1L8.5 8.5l.94-2.06 2.06-.94-2.06-.94L8.5 2.5l-.94 2.06-2.06.94zm10 10l.94 2.06.94-2.06 2.06-.94-2.06-.94-.94-2.06-.94 2.06-2.06.94z\"/><path d=\"M17.41 7.96l-1.37-1.37c-.4-.4-.92-.59-1.43-.59-.52 0-1.04.2-1.43.59L10.3 9.45l-7.72 7.72c-.78.78-.78 2.05 0 2.83L4 21.41c.39.39.9.59 1.41.59.51 0 1.02-.2 1.41-.59l7.78-7.78 2.81-2.81c.8-.78.8-2.07 0-2.86zM5.41 20L4 18.59l7.72-7.72 1.47 1.35L5.41 20z\"/>\n",
              "  </svg>\n",
              "      </button>\n",
              "      \n",
              "  <style>\n",
              "    .colab-df-container {\n",
              "      display:flex;\n",
              "      flex-wrap:wrap;\n",
              "      gap: 12px;\n",
              "    }\n",
              "\n",
              "    .colab-df-convert {\n",
              "      background-color: #E8F0FE;\n",
              "      border: none;\n",
              "      border-radius: 50%;\n",
              "      cursor: pointer;\n",
              "      display: none;\n",
              "      fill: #1967D2;\n",
              "      height: 32px;\n",
              "      padding: 0 0 0 0;\n",
              "      width: 32px;\n",
              "    }\n",
              "\n",
              "    .colab-df-convert:hover {\n",
              "      background-color: #E2EBFA;\n",
              "      box-shadow: 0px 1px 2px rgba(60, 64, 67, 0.3), 0px 1px 3px 1px rgba(60, 64, 67, 0.15);\n",
              "      fill: #174EA6;\n",
              "    }\n",
              "\n",
              "    [theme=dark] .colab-df-convert {\n",
              "      background-color: #3B4455;\n",
              "      fill: #D2E3FC;\n",
              "    }\n",
              "\n",
              "    [theme=dark] .colab-df-convert:hover {\n",
              "      background-color: #434B5C;\n",
              "      box-shadow: 0px 1px 3px 1px rgba(0, 0, 0, 0.15);\n",
              "      filter: drop-shadow(0px 1px 2px rgba(0, 0, 0, 0.3));\n",
              "      fill: #FFFFFF;\n",
              "    }\n",
              "  </style>\n",
              "\n",
              "      <script>\n",
              "        const buttonEl =\n",
              "          document.querySelector('#df-7e500c63-5a8c-484a-8229-1279acc1cc03 button.colab-df-convert');\n",
              "        buttonEl.style.display =\n",
              "          google.colab.kernel.accessAllowed ? 'block' : 'none';\n",
              "\n",
              "        async function convertToInteractive(key) {\n",
              "          const element = document.querySelector('#df-7e500c63-5a8c-484a-8229-1279acc1cc03');\n",
              "          const dataTable =\n",
              "            await google.colab.kernel.invokeFunction('convertToInteractive',\n",
              "                                                     [key], {});\n",
              "          if (!dataTable) return;\n",
              "\n",
              "          const docLinkHtml = 'Like what you see? Visit the ' +\n",
              "            '<a target=\"_blank\" href=https://colab.research.google.com/notebooks/data_table.ipynb>data table notebook</a>'\n",
              "            + ' to learn more about interactive tables.';\n",
              "          element.innerHTML = '';\n",
              "          dataTable['output_type'] = 'display_data';\n",
              "          await google.colab.output.renderOutput(dataTable, element);\n",
              "          const docLink = document.createElement('div');\n",
              "          docLink.innerHTML = docLinkHtml;\n",
              "          element.appendChild(docLink);\n",
              "        }\n",
              "      </script>\n",
              "    </div>\n",
              "  </div>\n",
              "  "
            ]
          },
          "metadata": {},
          "execution_count": 4
        }
      ],
      "source": [
        "!cd \n",
        "df = pd.read_csv(\"/content/drive/MyDrive/Undergrad/IBM-Project/Assignments/Churn_Modelling.csv\")\n",
        "df.describe()\n",
        "df.head()"
      ]
    },
    {
      "cell_type": "code",
      "execution_count": 5,
      "metadata": {
        "colab": {
          "base_uri": "https://localhost:8080/",
          "height": 206
        },
        "id": "Jn5Cjxtrp3Qq",
        "outputId": "e3365e36-af56-4aff-9800-e9549dc44a42"
      },
      "outputs": [
        {
          "output_type": "execute_result",
          "data": {
            "text/plain": [
              "   CreditScore Geography  Gender  Age  Tenure    Balance  NumOfProducts  \\\n",
              "0          619    France  Female   42       2       0.00              1   \n",
              "1          608     Spain  Female   41       1   83807.86              1   \n",
              "2          502    France  Female   42       8  159660.80              3   \n",
              "3          699    France  Female   39       1       0.00              2   \n",
              "4          850     Spain  Female   43       2  125510.82              1   \n",
              "\n",
              "   HasCrCard  IsActiveMember  EstimatedSalary  Exited  \n",
              "0          1               1        101348.88       1  \n",
              "1          0               1        112542.58       0  \n",
              "2          1               0        113931.57       1  \n",
              "3          0               0         93826.63       0  \n",
              "4          1               1         79084.10       0  "
            ],
            "text/html": [
              "\n",
              "  <div id=\"df-bc3d4523-2fd9-495f-bf26-ce577d1d6778\">\n",
              "    <div class=\"colab-df-container\">\n",
              "      <div>\n",
              "<style scoped>\n",
              "    .dataframe tbody tr th:only-of-type {\n",
              "        vertical-align: middle;\n",
              "    }\n",
              "\n",
              "    .dataframe tbody tr th {\n",
              "        vertical-align: top;\n",
              "    }\n",
              "\n",
              "    .dataframe thead th {\n",
              "        text-align: right;\n",
              "    }\n",
              "</style>\n",
              "<table border=\"1\" class=\"dataframe\">\n",
              "  <thead>\n",
              "    <tr style=\"text-align: right;\">\n",
              "      <th></th>\n",
              "      <th>CreditScore</th>\n",
              "      <th>Geography</th>\n",
              "      <th>Gender</th>\n",
              "      <th>Age</th>\n",
              "      <th>Tenure</th>\n",
              "      <th>Balance</th>\n",
              "      <th>NumOfProducts</th>\n",
              "      <th>HasCrCard</th>\n",
              "      <th>IsActiveMember</th>\n",
              "      <th>EstimatedSalary</th>\n",
              "      <th>Exited</th>\n",
              "    </tr>\n",
              "  </thead>\n",
              "  <tbody>\n",
              "    <tr>\n",
              "      <th>0</th>\n",
              "      <td>619</td>\n",
              "      <td>France</td>\n",
              "      <td>Female</td>\n",
              "      <td>42</td>\n",
              "      <td>2</td>\n",
              "      <td>0.00</td>\n",
              "      <td>1</td>\n",
              "      <td>1</td>\n",
              "      <td>1</td>\n",
              "      <td>101348.88</td>\n",
              "      <td>1</td>\n",
              "    </tr>\n",
              "    <tr>\n",
              "      <th>1</th>\n",
              "      <td>608</td>\n",
              "      <td>Spain</td>\n",
              "      <td>Female</td>\n",
              "      <td>41</td>\n",
              "      <td>1</td>\n",
              "      <td>83807.86</td>\n",
              "      <td>1</td>\n",
              "      <td>0</td>\n",
              "      <td>1</td>\n",
              "      <td>112542.58</td>\n",
              "      <td>0</td>\n",
              "    </tr>\n",
              "    <tr>\n",
              "      <th>2</th>\n",
              "      <td>502</td>\n",
              "      <td>France</td>\n",
              "      <td>Female</td>\n",
              "      <td>42</td>\n",
              "      <td>8</td>\n",
              "      <td>159660.80</td>\n",
              "      <td>3</td>\n",
              "      <td>1</td>\n",
              "      <td>0</td>\n",
              "      <td>113931.57</td>\n",
              "      <td>1</td>\n",
              "    </tr>\n",
              "    <tr>\n",
              "      <th>3</th>\n",
              "      <td>699</td>\n",
              "      <td>France</td>\n",
              "      <td>Female</td>\n",
              "      <td>39</td>\n",
              "      <td>1</td>\n",
              "      <td>0.00</td>\n",
              "      <td>2</td>\n",
              "      <td>0</td>\n",
              "      <td>0</td>\n",
              "      <td>93826.63</td>\n",
              "      <td>0</td>\n",
              "    </tr>\n",
              "    <tr>\n",
              "      <th>4</th>\n",
              "      <td>850</td>\n",
              "      <td>Spain</td>\n",
              "      <td>Female</td>\n",
              "      <td>43</td>\n",
              "      <td>2</td>\n",
              "      <td>125510.82</td>\n",
              "      <td>1</td>\n",
              "      <td>1</td>\n",
              "      <td>1</td>\n",
              "      <td>79084.10</td>\n",
              "      <td>0</td>\n",
              "    </tr>\n",
              "  </tbody>\n",
              "</table>\n",
              "</div>\n",
              "      <button class=\"colab-df-convert\" onclick=\"convertToInteractive('df-bc3d4523-2fd9-495f-bf26-ce577d1d6778')\"\n",
              "              title=\"Convert this dataframe to an interactive table.\"\n",
              "              style=\"display:none;\">\n",
              "        \n",
              "  <svg xmlns=\"http://www.w3.org/2000/svg\" height=\"24px\"viewBox=\"0 0 24 24\"\n",
              "       width=\"24px\">\n",
              "    <path d=\"M0 0h24v24H0V0z\" fill=\"none\"/>\n",
              "    <path d=\"M18.56 5.44l.94 2.06.94-2.06 2.06-.94-2.06-.94-.94-2.06-.94 2.06-2.06.94zm-11 1L8.5 8.5l.94-2.06 2.06-.94-2.06-.94L8.5 2.5l-.94 2.06-2.06.94zm10 10l.94 2.06.94-2.06 2.06-.94-2.06-.94-.94-2.06-.94 2.06-2.06.94z\"/><path d=\"M17.41 7.96l-1.37-1.37c-.4-.4-.92-.59-1.43-.59-.52 0-1.04.2-1.43.59L10.3 9.45l-7.72 7.72c-.78.78-.78 2.05 0 2.83L4 21.41c.39.39.9.59 1.41.59.51 0 1.02-.2 1.41-.59l7.78-7.78 2.81-2.81c.8-.78.8-2.07 0-2.86zM5.41 20L4 18.59l7.72-7.72 1.47 1.35L5.41 20z\"/>\n",
              "  </svg>\n",
              "      </button>\n",
              "      \n",
              "  <style>\n",
              "    .colab-df-container {\n",
              "      display:flex;\n",
              "      flex-wrap:wrap;\n",
              "      gap: 12px;\n",
              "    }\n",
              "\n",
              "    .colab-df-convert {\n",
              "      background-color: #E8F0FE;\n",
              "      border: none;\n",
              "      border-radius: 50%;\n",
              "      cursor: pointer;\n",
              "      display: none;\n",
              "      fill: #1967D2;\n",
              "      height: 32px;\n",
              "      padding: 0 0 0 0;\n",
              "      width: 32px;\n",
              "    }\n",
              "\n",
              "    .colab-df-convert:hover {\n",
              "      background-color: #E2EBFA;\n",
              "      box-shadow: 0px 1px 2px rgba(60, 64, 67, 0.3), 0px 1px 3px 1px rgba(60, 64, 67, 0.15);\n",
              "      fill: #174EA6;\n",
              "    }\n",
              "\n",
              "    [theme=dark] .colab-df-convert {\n",
              "      background-color: #3B4455;\n",
              "      fill: #D2E3FC;\n",
              "    }\n",
              "\n",
              "    [theme=dark] .colab-df-convert:hover {\n",
              "      background-color: #434B5C;\n",
              "      box-shadow: 0px 1px 3px 1px rgba(0, 0, 0, 0.15);\n",
              "      filter: drop-shadow(0px 1px 2px rgba(0, 0, 0, 0.3));\n",
              "      fill: #FFFFFF;\n",
              "    }\n",
              "  </style>\n",
              "\n",
              "      <script>\n",
              "        const buttonEl =\n",
              "          document.querySelector('#df-bc3d4523-2fd9-495f-bf26-ce577d1d6778 button.colab-df-convert');\n",
              "        buttonEl.style.display =\n",
              "          google.colab.kernel.accessAllowed ? 'block' : 'none';\n",
              "\n",
              "        async function convertToInteractive(key) {\n",
              "          const element = document.querySelector('#df-bc3d4523-2fd9-495f-bf26-ce577d1d6778');\n",
              "          const dataTable =\n",
              "            await google.colab.kernel.invokeFunction('convertToInteractive',\n",
              "                                                     [key], {});\n",
              "          if (!dataTable) return;\n",
              "\n",
              "          const docLinkHtml = 'Like what you see? Visit the ' +\n",
              "            '<a target=\"_blank\" href=https://colab.research.google.com/notebooks/data_table.ipynb>data table notebook</a>'\n",
              "            + ' to learn more about interactive tables.';\n",
              "          element.innerHTML = '';\n",
              "          dataTable['output_type'] = 'display_data';\n",
              "          await google.colab.output.renderOutput(dataTable, element);\n",
              "          const docLink = document.createElement('div');\n",
              "          docLink.innerHTML = docLinkHtml;\n",
              "          element.appendChild(docLink);\n",
              "        }\n",
              "      </script>\n",
              "    </div>\n",
              "  </div>\n",
              "  "
            ]
          },
          "metadata": {},
          "execution_count": 5
        }
      ],
      "source": [
        "## Dropping unnecessary columns\n",
        "df.drop([\"RowNumber\",\"CustomerId\",\"Surname\"],axis=1,inplace=True)\n",
        "df.describe()\n",
        "df.head()"
      ]
    },
    {
      "cell_type": "markdown",
      "metadata": {
        "id": "m1SfeXMlp3Qs"
      },
      "source": [
        "## 3. Visualizations"
      ]
    },
    {
      "cell_type": "markdown",
      "metadata": {
        "id": "RnlZwOg7p3Qu"
      },
      "source": [
        "### (i) Univariate Analysis"
      ]
    },
    {
      "cell_type": "code",
      "execution_count": 6,
      "metadata": {
        "colab": {
          "base_uri": "https://localhost:8080/",
          "height": 295
        },
        "id": "UGc2i91up3Qw",
        "outputId": "fea335cb-be34-46e8-d46e-81527ad2e1b3"
      },
      "outputs": [
        {
          "output_type": "display_data",
          "data": {
            "text/plain": [
              "<Figure size 432x288 with 1 Axes>"
            ],
            "image/png": "[encoded data removed]"
          },
          "metadata": {
            "needs_background": "light"
          }
        }
      ],
      "source": [
        "sns.countplot(x=\"Exited\",data=df)\n",
        "plt.xlabel(\" 0: Customer with bank, 1: Exited from bank\")\n",
        "plt.ylabel(\"Count of Customers\")\n",
        "plt.title(\"Bank Customer\")\n",
        "plt.show()"
      ]
    },
    {
      "cell_type": "markdown",
      "metadata": {
        "id": "xH-HQtlwp3Qx"
      },
      "source": [
        "### (ii) Bi-variate Analysis"
      ]
    },
    {
      "cell_type": "code",
      "execution_count": 7,
      "metadata": {
        "colab": {
          "base_uri": "https://localhost:8080/",
          "height": 295
        },
        "id": "-1ET_Iyrp3Qz",
        "outputId": "1a032101-c23c-4cde-a4de-c565595de561"
      },
      "outputs": [
        {
          "output_type": "display_data",
          "data": {
            "text/plain": [
              "<Figure size 432x288 with 1 Axes>"
            ],
            "image/png": "[encoded data removed]"
          },
          "metadata": {
            "needs_background": "light"
          }
        }
      ],
      "source": [
        "plt.scatter(df[\"Age\"], df[\"Balance\"])\n",
        "plt.xlabel(\"Age\")\n",
        "plt.ylabel(\"Balance\")\n",
        "plt.title(\"Age Vs. Balance\")\n",
        "plt.show()"
      ]
    },
    {
      "cell_type": "markdown",
      "metadata": {
        "id": "Ea-nalynp3Q0"
      },
      "source": [
        "### (iii) Multi-variate Analysis"
      ]
    },
    {
      "cell_type": "code",
      "execution_count": 8,
      "metadata": {
        "colab": {
          "base_uri": "https://localhost:8080/",
          "height": 374
        },
        "id": "5kgMgyOYp3Q1",
        "outputId": "e4a0b43a-d4c6-49ec-ee21-5e358b6c38f3"
      },
      "outputs": [
        {
          "output_type": "display_data",
          "data": {
            "text/plain": [
              "<Figure size 402.375x360 with 6 Axes>"
            ],
            "image/png": "[encoded data removed]"
          },
          "metadata": {
            "needs_background": "light"
          }
        }
      ],
      "source": [
        "sns.pairplot(df[[\"Age\", \"Gender\", \"EstimatedSalary\", \"Exited\"]], hue=\"Exited\")\n",
        "plt.show()"
      ]
    },
    {
      "cell_type": "markdown",
      "metadata": {
        "id": "JvUJcjV2p3Q2"
      },
      "source": [
        "## 4. Descriptive Statistics"
      ]
    },
    {
      "cell_type": "code",
      "execution_count": 9,
      "metadata": {
        "colab": {
          "base_uri": "https://localhost:8080/",
          "height": 300
        },
        "id": "6n8XjtlVp3Q2",
        "outputId": "c6e2b201-81d4-46df-b2ae-e0c28f93afce"
      },
      "outputs": [
        {
          "output_type": "execute_result",
          "data": {
            "text/plain": [
              "        CreditScore           Age        Tenure        Balance  NumOfProducts  \\\n",
              "count  10000.000000  10000.000000  10000.000000   10000.000000   10000.000000   \n",
              "mean     650.528800     38.921800      5.012800   76485.889288       1.530200   \n",
              "std       96.653299     10.487806      2.892174   62397.405202       0.581654   \n",
              "min      350.000000     18.000000      0.000000       0.000000       1.000000   \n",
              "25%      584.000000     32.000000      3.000000       0.000000       1.000000   \n",
              "50%      652.000000     37.000000      5.000000   97198.540000       1.000000   \n",
              "75%      718.000000     44.000000      7.000000  127644.240000       2.000000   \n",
              "max      850.000000     92.000000     10.000000  250898.090000       4.000000   \n",
              "\n",
              "         HasCrCard  IsActiveMember  EstimatedSalary        Exited  \n",
              "count  10000.00000    10000.000000     10000.000000  10000.000000  \n",
              "mean       0.70550        0.515100    100090.239881      0.203700  \n",
              "std        0.45584        0.499797     57510.492818      0.402769  \n",
              "min        0.00000        0.000000        11.580000      0.000000  \n",
              "25%        0.00000        0.000000     51002.110000      0.000000  \n",
              "50%        1.00000        1.000000    100193.915000      0.000000  \n",
              "75%        1.00000        1.000000    149388.247500      0.000000  \n",
              "max        1.00000        1.000000    199992.480000      1.000000  "
            ],
            "text/html": [
              "\n",
              "  <div id=\"df-85b7d839-4f35-4760-bcf9-7afdabb6feab\">\n",
              "    <div class=\"colab-df-container\">\n",
              "      <div>\n",
              "<style scoped>\n",
              "    .dataframe tbody tr th:only-of-type {\n",
              "        vertical-align: middle;\n",
              "    }\n",
              "\n",
              "    .dataframe tbody tr th {\n",
              "        vertical-align: top;\n",
              "    }\n",
              "\n",
              "    .dataframe thead th {\n",
              "        text-align: right;\n",
              "    }\n",
              "</style>\n",
              "<table border=\"1\" class=\"dataframe\">\n",
              "  <thead>\n",
              "    <tr style=\"text-align: right;\">\n",
              "      <th></th>\n",
              "      <th>CreditScore</th>\n",
              "      <th>Age</th>\n",
              "      <th>Tenure</th>\n",
              "      <th>Balance</th>\n",
              "      <th>NumOfProducts</th>\n",
              "      <th>HasCrCard</th>\n",
              "      <th>IsActiveMember</th>\n",
              "      <th>EstimatedSalary</th>\n",
              "      <th>Exited</th>\n",
              "    </tr>\n",
              "  </thead>\n",
              "  <tbody>\n",
              "    <tr>\n",
              "      <th>count</th>\n",
              "      <td>10000.000000</td>\n",
              "      <td>10000.000000</td>\n",
              "      <td>10000.000000</td>\n",
              "      <td>10000.000000</td>\n",
              "      <td>10000.000000</td>\n",
              "      <td>10000.00000</td>\n",
              "      <td>10000.000000</td>\n",
              "      <td>10000.000000</td>\n",
              "      <td>10000.000000</td>\n",
              "    </tr>\n",
              "    <tr>\n",
              "      <th>mean</th>\n",
              "      <td>650.528800</td>\n",
              "      <td>38.921800</td>\n",
              "      <td>5.012800</td>\n",
              "      <td>76485.889288</td>\n",
              "      <td>1.530200</td>\n",
              "      <td>0.70550</td>\n",
              "      <td>0.515100</td>\n",
              "      <td>100090.239881</td>\n",
              "      <td>0.203700</td>\n",
              "    </tr>\n",
              "    <tr>\n",
              "      <th>std</th>\n",
              "      <td>96.653299</td>\n",
              "      <td>10.487806</td>\n",
              "      <td>2.892174</td>\n",
              "      <td>62397.405202</td>\n",
              "      <td>0.581654</td>\n",
              "      <td>0.45584</td>\n",
              "      <td>0.499797</td>\n",
              "      <td>57510.492818</td>\n",
              "      <td>0.402769</td>\n",
              "    </tr>\n",
              "    <tr>\n",
              "      <th>min</th>\n",
              "      <td>350.000000</td>\n",
              "      <td>18.000000</td>\n",
              "      <td>0.000000</td>\n",
              "      <td>0.000000</td>\n",
              "      <td>1.000000</td>\n",
              "      <td>0.00000</td>\n",
              "      <td>0.000000</td>\n",
              "      <td>11.580000</td>\n",
              "      <td>0.000000</td>\n",
              "    </tr>\n",
              "    <tr>\n",
              "      <th>25%</th>\n",
              "      <td>584.000000</td>\n",
              "      <td>32.000000</td>\n",
              "      <td>3.000000</td>\n",
              "      <td>0.000000</td>\n",
              "      <td>1.000000</td>\n",
              "      <td>0.00000</td>\n",
              "      <td>0.000000</td>\n",
              "      <td>51002.110000</td>\n",
              "      <td>0.000000</td>\n",
              "    </tr>\n",
              "    <tr>\n",
              "      <th>50%</th>\n",
              "      <td>652.000000</td>\n",
              "      <td>37.000000</td>\n",
              "      <td>5.000000</td>\n",
              "      <td>97198.540000</td>\n",
              "      <td>1.000000</td>\n",
              "      <td>1.00000</td>\n",
              "      <td>1.000000</td>\n",
              "      <td>100193.915000</td>\n",
              "      <td>0.000000</td>\n",
              "    </tr>\n",
              "    <tr>\n",
              "      <th>75%</th>\n",
              "      <td>718.000000</td>\n",
              "      <td>44.000000</td>\n",
              "      <td>7.000000</td>\n",
              "      <td>127644.240000</td>\n",
              "      <td>2.000000</td>\n",
              "      <td>1.00000</td>\n",
              "      <td>1.000000</td>\n",
              "      <td>149388.247500</td>\n",
              "      <td>0.000000</td>\n",
              "    </tr>\n",
              "    <tr>\n",
              "      <th>max</th>\n",
              "      <td>850.000000</td>\n",
              "      <td>92.000000</td>\n",
              "      <td>10.000000</td>\n",
              "      <td>250898.090000</td>\n",
              "      <td>4.000000</td>\n",
              "      <td>1.00000</td>\n",
              "      <td>1.000000</td>\n",
              "      <td>199992.480000</td>\n",
              "      <td>1.000000</td>\n",
              "    </tr>\n",
              "  </tbody>\n",
              "</table>\n",
              "</div>\n",
              "      <button class=\"colab-df-convert\" onclick=\"convertToInteractive('df-85b7d839-4f35-4760-bcf9-7afdabb6feab')\"\n",
              "              title=\"Convert this dataframe to an interactive table.\"\n",
              "              style=\"display:none;\">\n",
              "        \n",
              "  <svg xmlns=\"http://www.w3.org/2000/svg\" height=\"24px\"viewBox=\"0 0 24 24\"\n",
              "       width=\"24px\">\n",
              "    <path d=\"M0 0h24v24H0V0z\" fill=\"none\"/>\n",
              "    <path d=\"M18.56 5.44l.94 2.06.94-2.06 2.06-.94-2.06-.94-.94-2.06-.94 2.06-2.06.94zm-11 1L8.5 8.5l.94-2.06 2.06-.94-2.06-.94L8.5 2.5l-.94 2.06-2.06.94zm10 10l.94 2.06.94-2.06 2.06-.94-2.06-.94-.94-2.06-.94 2.06-2.06.94z\"/><path d=\"M17.41 7.96l-1.37-1.37c-.4-.4-.92-.59-1.43-.59-.52 0-1.04.2-1.43.59L10.3 9.45l-7.72 7.72c-.78.78-.78 2.05 0 2.83L4 21.41c.39.39.9.59 1.41.59.51 0 1.02-.2 1.41-.59l7.78-7.78 2.81-2.81c.8-.78.8-2.07 0-2.86zM5.41 20L4 18.59l7.72-7.72 1.47 1.35L5.41 20z\"/>\n",
              "  </svg>\n",
              "      </button>\n",
              "      \n",
              "  <style>\n",
              "    .colab-df-container {\n",
              "      display:flex;\n",
              "      flex-wrap:wrap;\n",
              "      gap: 12px;\n",
              "    }\n",
              "\n",
              "    .colab-df-convert {\n",
              "      background-color: #E8F0FE;\n",
              "      border: none;\n",
              "      border-radius: 50%;\n",
              "      cursor: pointer;\n",
              "      display: none;\n",
              "      fill: #1967D2;\n",
              "      height: 32px;\n",
              "      padding: 0 0 0 0;\n",
              "      width: 32px;\n",
              "    }\n",
              "\n",
              "    .colab-df-convert:hover {\n",
              "      background-color: #E2EBFA;\n",
              "      box-shadow: 0px 1px 2px rgba(60, 64, 67, 0.3), 0px 1px 3px 1px rgba(60, 64, 67, 0.15);\n",
              "      fill: #174EA6;\n",
              "    }\n",
              "\n",
              "    [theme=dark] .colab-df-convert {\n",
              "      background-color: #3B4455;\n",
              "      fill: #D2E3FC;\n",
              "    }\n",
              "\n",
              "    [theme=dark] .colab-df-convert:hover {\n",
              "      background-color: #434B5C;\n",
              "      box-shadow: 0px 1px 3px 1px rgba(0, 0, 0, 0.15);\n",
              "      filter: drop-shadow(0px 1px 2px rgba(0, 0, 0, 0.3));\n",
              "      fill: #FFFFFF;\n",
              "    }\n",
              "  </style>\n",
              "\n",
              "      <script>\n",
              "        const buttonEl =\n",
              "          document.querySelector('#df-85b7d839-4f35-4760-bcf9-7afdabb6feab button.colab-df-convert');\n",
              "        buttonEl.style.display =\n",
              "          google.colab.kernel.accessAllowed ? 'block' : 'none';\n",
              "\n",
              "        async function convertToInteractive(key) {\n",
              "          const element = document.querySelector('#df-85b7d839-4f35-4760-bcf9-7afdabb6feab');\n",
              "          const dataTable =\n",
              "            await google.colab.kernel.invokeFunction('convertToInteractive',\n",
              "                                                     [key], {});\n",
              "          if (!dataTable) return;\n",
              "\n",
              "          const docLinkHtml = 'Like what you see? Visit the ' +\n",
              "            '<a target=\"_blank\" href=https://colab.research.google.com/notebooks/data_table.ipynb>data table notebook</a>'\n",
              "            + ' to learn more about interactive tables.';\n",
              "          element.innerHTML = '';\n",
              "          dataTable['output_type'] = 'display_data';\n",
              "          await google.colab.output.renderOutput(dataTable, element);\n",
              "          const docLink = document.createElement('div');\n",
              "          docLink.innerHTML = docLinkHtml;\n",
              "          element.appendChild(docLink);\n",
              "        }\n",
              "      </script>\n",
              "    </div>\n",
              "  </div>\n",
              "  "
            ]
          },
          "metadata": {},
          "execution_count": 9
        }
      ],
      "source": [
        "df.describe()"
      ]
    },
    {
      "cell_type": "markdown",
      "metadata": {
        "id": "hq4g06MJp3Q3"
      },
      "source": [
        "## 5. Handling the Missing Values"
      ]
    },
    {
      "cell_type": "code",
      "execution_count": 10,
      "metadata": {
        "colab": {
          "base_uri": "https://localhost:8080/"
        },
        "id": "EyXswfkQp3Q4",
        "outputId": "a7e3f26d-6dbd-4c03-96bc-7933aef52afe"
      },
      "outputs": [
        {
          "output_type": "stream",
          "name": "stdout",
          "text": [
            "<class 'pandas.core.frame.DataFrame'>\n",
            "RangeIndex: 10000 entries, 0 to 9999\n",
            "Data columns (total 11 columns):\n",
            " #   Column           Non-Null Count  Dtype  \n",
            "---  ------           --------------  -----  \n",
            " 0   CreditScore      10000 non-null  int64  \n",
            " 1   Geography        10000 non-null  object \n",
            " 2   Gender           10000 non-null  object \n",
            " 3   Age              10000 non-null  int64  \n",
            " 4   Tenure           10000 non-null  int64  \n",
            " 5   Balance          10000 non-null  float64\n",
            " 6   NumOfProducts    10000 non-null  int64  \n",
            " 7   HasCrCard        10000 non-null  int64  \n",
            " 8   IsActiveMember   10000 non-null  int64  \n",
            " 9   EstimatedSalary  10000 non-null  float64\n",
            " 10  Exited           10000 non-null  int64  \n",
            "dtypes: float64(2), int64(7), object(2)\n",
            "memory usage: 859.5+ KB\n"
          ]
        },
        {
          "output_type": "execute_result",
          "data": {
            "text/plain": [
              "CreditScore        0\n",
              "Geography          0\n",
              "Gender             0\n",
              "Age                0\n",
              "Tenure             0\n",
              "Balance            0\n",
              "NumOfProducts      0\n",
              "HasCrCard          0\n",
              "IsActiveMember     0\n",
              "EstimatedSalary    0\n",
              "Exited             0\n",
              "dtype: int64"
            ]
          },
          "metadata": {},
          "execution_count": 10
        }
      ],
      "source": [
        "# Find null values\n",
        "df.info()\n",
        "df.isnull().sum()"
      ]
    },
    {
      "cell_type": "code",
      "execution_count": 11,
      "metadata": {
        "colab": {
          "base_uri": "https://localhost:8080/",
          "height": 206
        },
        "id": "5efapIkFp3Q5",
        "outputId": "a2ccae4b-4f04-412a-f94c-ff5e59baacde"
      },
      "outputs": [
        {
          "output_type": "execute_result",
          "data": {
            "text/plain": [
              "   CreditScore Geography  Gender  Age  Tenure    Balance  NumOfProducts  \\\n",
              "0          619    France  Female   42       2       0.00              1   \n",
              "1          608     Spain  Female   41       1   83807.86              1   \n",
              "2          502    France  Female   42       8  159660.80              3   \n",
              "3          699    France  Female   39       1       0.00              2   \n",
              "4          850     Spain  Female   43       2  125510.82              1   \n",
              "\n",
              "   HasCrCard  IsActiveMember  EstimatedSalary  Exited  \n",
              "0          1               1        101348.88       1  \n",
              "1          0               1        112542.58       0  \n",
              "2          1               0        113931.57       1  \n",
              "3          0               0         93826.63       0  \n",
              "4          1               1         79084.10       0  "
            ],
            "text/html": [
              "\n",
              "  <div id=\"df-4c7348d1-13f1-4de9-9ad0-a147912389d1\">\n",
              "    <div class=\"colab-df-container\">\n",
              "      <div>\n",
              "<style scoped>\n",
              "    .dataframe tbody tr th:only-of-type {\n",
              "        vertical-align: middle;\n",
              "    }\n",
              "\n",
              "    .dataframe tbody tr th {\n",
              "        vertical-align: top;\n",
              "    }\n",
              "\n",
              "    .dataframe thead th {\n",
              "        text-align: right;\n",
              "    }\n",
              "</style>\n",
              "<table border=\"1\" class=\"dataframe\">\n",
              "  <thead>\n",
              "    <tr style=\"text-align: right;\">\n",
              "      <th></th>\n",
              "      <th>CreditScore</th>\n",
              "      <th>Geography</th>\n",
              "      <th>Gender</th>\n",
              "      <th>Age</th>\n",
              "      <th>Tenure</th>\n",
              "      <th>Balance</th>\n",
              "      <th>NumOfProducts</th>\n",
              "      <th>HasCrCard</th>\n",
              "      <th>IsActiveMember</th>\n",
              "      <th>EstimatedSalary</th>\n",
              "      <th>Exited</th>\n",
              "    </tr>\n",
              "  </thead>\n",
              "  <tbody>\n",
              "    <tr>\n",
              "      <th>0</th>\n",
              "      <td>619</td>\n",
              "      <td>France</td>\n",
              "      <td>Female</td>\n",
              "      <td>42</td>\n",
              "      <td>2</td>\n",
              "      <td>0.00</td>\n",
              "      <td>1</td>\n",
              "      <td>1</td>\n",
              "      <td>1</td>\n",
              "      <td>101348.88</td>\n",
              "      <td>1</td>\n",
              "    </tr>\n",
              "    <tr>\n",
              "      <th>1</th>\n",
              "      <td>608</td>\n",
              "      <td>Spain</td>\n",
              "      <td>Female</td>\n",
              "      <td>41</td>\n",
              "      <td>1</td>\n",
              "      <td>83807.86</td>\n",
              "      <td>1</td>\n",
              "      <td>0</td>\n",
              "      <td>1</td>\n",
              "      <td>112542.58</td>\n",
              "      <td>0</td>\n",
              "    </tr>\n",
              "    <tr>\n",
              "      <th>2</th>\n",
              "      <td>502</td>\n",
              "      <td>France</td>\n",
              "      <td>Female</td>\n",
              "      <td>42</td>\n",
              "      <td>8</td>\n",
              "      <td>159660.80</td>\n",
              "      <td>3</td>\n",
              "      <td>1</td>\n",
              "      <td>0</td>\n",
              "      <td>113931.57</td>\n",
              "      <td>1</td>\n",
              "    </tr>\n",
              "    <tr>\n",
              "      <th>3</th>\n",
              "      <td>699</td>\n",
              "      <td>France</td>\n",
              "      <td>Female</td>\n",
              "      <td>39</td>\n",
              "      <td>1</td>\n",
              "      <td>0.00</td>\n",
              "      <td>2</td>\n",
              "      <td>0</td>\n",
              "      <td>0</td>\n",
              "      <td>93826.63</td>\n",
              "      <td>0</td>\n",
              "    </tr>\n",
              "    <tr>\n",
              "      <th>4</th>\n",
              "      <td>850</td>\n",
              "      <td>Spain</td>\n",
              "      <td>Female</td>\n",
              "      <td>43</td>\n",
              "      <td>2</td>\n",
              "      <td>125510.82</td>\n",
              "      <td>1</td>\n",
              "      <td>1</td>\n",
              "      <td>1</td>\n",
              "      <td>79084.10</td>\n",
              "      <td>0</td>\n",
              "    </tr>\n",
              "  </tbody>\n",
              "</table>\n",
              "</div>\n",
              "      <button class=\"colab-df-convert\" onclick=\"convertToInteractive('df-4c7348d1-13f1-4de9-9ad0-a147912389d1')\"\n",
              "              title=\"Convert this dataframe to an interactive table.\"\n",
              "              style=\"display:none;\">\n",
              "        \n",
              "  <svg xmlns=\"http://www.w3.org/2000/svg\" height=\"24px\"viewBox=\"0 0 24 24\"\n",
              "       width=\"24px\">\n",
              "    <path d=\"M0 0h24v24H0V0z\" fill=\"none\"/>\n",
              "    <path d=\"M18.56 5.44l.94 2.06.94-2.06 2.06-.94-2.06-.94-.94-2.06-.94 2.06-2.06.94zm-11 1L8.5 8.5l.94-2.06 2.06-.94-2.06-.94L8.5 2.5l-.94 2.06-2.06.94zm10 10l.94 2.06.94-2.06 2.06-.94-2.06-.94-.94-2.06-.94 2.06-2.06.94z\"/><path d=\"M17.41 7.96l-1.37-1.37c-.4-.4-.92-.59-1.43-.59-.52 0-1.04.2-1.43.59L10.3 9.45l-7.72 7.72c-.78.78-.78 2.05 0 2.83L4 21.41c.39.39.9.59 1.41.59.51 0 1.02-.2 1.41-.59l7.78-7.78 2.81-2.81c.8-.78.8-2.07 0-2.86zM5.41 20L4 18.59l7.72-7.72 1.47 1.35L5.41 20z\"/>\n",
              "  </svg>\n",
              "      </button>\n",
              "      \n",
              "  <style>\n",
              "    .colab-df-container {\n",
              "      display:flex;\n",
              "      flex-wrap:wrap;\n",
              "      gap: 12px;\n",
              "    }\n",
              "\n",
              "    .colab-df-convert {\n",
              "      background-color: #E8F0FE;\n",
              "      border: none;\n",
              "      border-radius: 50%;\n",
              "      cursor: pointer;\n",
              "      display: none;\n",
              "      fill: #1967D2;\n",
              "      height: 32px;\n",
              "      padding: 0 0 0 0;\n",
              "      width: 32px;\n",
              "    }\n",
              "\n",
              "    .colab-df-convert:hover {\n",
              "      background-color: #E2EBFA;\n",
              "      box-shadow: 0px 1px 2px rgba(60, 64, 67, 0.3), 0px 1px 3px 1px rgba(60, 64, 67, 0.15);\n",
              "      fill: #174EA6;\n",
              "    }\n",
              "\n",
              "    [theme=dark] .colab-df-convert {\n",
              "      background-color: #3B4455;\n",
              "      fill: #D2E3FC;\n",
              "    }\n",
              "\n",
              "    [theme=dark] .colab-df-convert:hover {\n",
              "      background-color: #434B5C;\n",
              "      box-shadow: 0px 1px 3px 1px rgba(0, 0, 0, 0.15);\n",
              "      filter: drop-shadow(0px 1px 2px rgba(0, 0, 0, 0.3));\n",
              "      fill: #FFFFFF;\n",
              "    }\n",
              "  </style>\n",
              "\n",
              "      <script>\n",
              "        const buttonEl =\n",
              "          document.querySelector('#df-4c7348d1-13f1-4de9-9ad0-a147912389d1 button.colab-df-convert');\n",
              "        buttonEl.style.display =\n",
              "          google.colab.kernel.accessAllowed ? 'block' : 'none';\n",
              "\n",
              "        async function convertToInteractive(key) {\n",
              "          const element = document.querySelector('#df-4c7348d1-13f1-4de9-9ad0-a147912389d1');\n",
              "          const dataTable =\n",
              "            await google.colab.kernel.invokeFunction('convertToInteractive',\n",
              "                                                     [key], {});\n",
              "          if (!dataTable) return;\n",
              "\n",
              "          const docLinkHtml = 'Like what you see? Visit the ' +\n",
              "            '<a target=\"_blank\" href=https://colab.research.google.com/notebooks/data_table.ipynb>data table notebook</a>'\n",
              "            + ' to learn more about interactive tables.';\n",
              "          element.innerHTML = '';\n",
              "          dataTable['output_type'] = 'display_data';\n",
              "          await google.colab.output.renderOutput(dataTable, element);\n",
              "          const docLink = document.createElement('div');\n",
              "          docLink.innerHTML = docLinkHtml;\n",
              "          element.appendChild(docLink);\n",
              "        }\n",
              "      </script>\n",
              "    </div>\n",
              "  </div>\n",
              "  "
            ]
          },
          "metadata": {},
          "execution_count": 11
        }
      ],
      "source": [
        "# Fill null values, if any, with corresponding feature mean/mode values appropriately\n",
        "df[\"CreditScore\"].fillna(df[\"CreditScore\"].mean(), inplace=True)\n",
        "df[\"Geography\"].fillna(df[\"Geography\"].mode(), inplace=True)\n",
        "df[\"Gender\"].fillna(df[\"Gender\"].mode(), inplace=True)\n",
        "df[\"Age\"].fillna(df[\"Age\"].mean(), inplace=True)\n",
        "df[\"Tenure\"].fillna(df[\"Tenure\"].mean(), inplace=True)\n",
        "df[\"Balance\"].fillna(df[\"Balance\"].mean(), inplace=True)\n",
        "df[\"NumOfProducts\"].fillna(df[\"NumOfProducts\"].mode(), inplace=True)\n",
        "df[\"HasCrCard\"].fillna(df[\"HasCrCard\"].mode(), inplace=True)\n",
        "df[\"IsActiveMember\"].fillna(df[\"IsActiveMember\"].mode(), inplace=True)\n",
        "df[\"EstimatedSalary\"].fillna(df[\"EstimatedSalary\"].mean(), inplace=True)\n",
        "df[\"Exited\"].fillna(df[\"Exited\"].mode(), inplace=True)\n",
        "df.describe()\n",
        "df.head()"
      ]
    },
    {
      "cell_type": "markdown",
      "metadata": {
        "id": "CW-gVwTOp3Q6"
      },
      "source": [
        "## 6. Find and Replace the outliers"
      ]
    },
    {
      "cell_type": "code",
      "execution_count": 12,
      "metadata": {
        "id": "vhCiqxECp3Q6"
      },
      "outputs": [],
      "source": [
        "# List out the numeric features\n",
        "numeric_features = ['CreditScore', 'Age', 'Tenure', 'Balance', 'NumOfProducts', 'EstimatedSalary']"
      ]
    },
    {
      "cell_type": "code",
      "execution_count": null,
      "metadata": {
        "id": "Zb0ZkiK5p3Q8"
      },
      "outputs": [],
      "source": [
        "# Find the outliers (visually)\n",
        "df[numeric_features]\n",
        "fig = plt.figure(figsize =(5, 3)) \n",
        "a = fig.add_axes([0, 0, 1, 1])\n",
        "a.boxplot(df[numeric_features])"
      ]
    },
    {
      "cell_type": "markdown",
      "source": [
        "![image.png](data:image/png;base64,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)"
      ],
      "metadata": {
        "id": "7qOwm7RELGXA"
      }
    },
    {
      "cell_type": "code",
      "execution_count": 14,
      "metadata": {
        "id": "f7N3zrjjp3Q9"
      },
      "outputs": [],
      "source": [
        "# Eliminate outliers based on Inter-Quartile Range\n",
        "outlier_features = ['CreditScore', 'Age', 'NumOfProducts']\n",
        "for col in outlier_features:\n",
        "    for col_explicit in [col]:\n",
        "        q75, q25 = np.percentile(df.loc[:, col_explicit], [75, 25])\n",
        "        intr_qr = q75-q25\n",
        "\n",
        "        max = q75+(1.5*intr_qr)\n",
        "        min = q25-(1.5*intr_qr)\n",
        "\n",
        "        df.loc[df[col_explicit] < min,col_explicit] = df[col].mode()\n",
        "        df.loc[df[col_explicit] > max,col_explicit] = df[col].mode()"
      ]
    },
    {
      "cell_type": "code",
      "execution_count": null,
      "metadata": {
        "id": "9mfcgtVXp3Q9"
      },
      "outputs": [],
      "source": [
        "# Plot after removing outliers\n",
        "fig = plt.figure() \n",
        "a = fig.add_axes([0, 0, 1, 1])\n",
        "bp = a.boxplot(df[numeric_features])"
      ]
    },
    {
      "cell_type": "markdown",
      "source": [
        "![image.png](data:image/png;base64,iVBORw0KGgoAAAANSUhEUgAAAkYAAAFXCAYAAABHv4HPAAAABHNCSVQICAgIfAhkiAAAIABJREFUeF7t3QmQFNX9wPHfLtcu932s3HItyLUgSBA8oEBCKAETEQUJIiqCEVAkGAVJGVEsI6go0fwjVuEBWEGUM4Tzr4AoiAJyCwXKZZT7hu1//16c+e/sLrszOz2z093fVzU1Oz2v3/F5A/Pb1+/1Jll2EhICCCCAAAIIIICAJGOAAAIIIIAAAggg8F8BAiM+CQgggAACCCCAwC8CBEZ8FBBAAAEEEEAAgV8ECIz4KCCAAAIIIIAAAr8IEBjxUUAAAQQQQAABBH4RIDDio4AAAggggAACCPwiQGDERwEBBBBAAAEEEPhFoCgSVxfIzMyUgwcPSpkyZSQpKenqGXkHAQQQQAABBBJWQG/ZeOrUKUlLS5Pk5LznhAiM8hhGDYpq1aqVRw7eQgABBBBAAAG3CBw4cEBq1qyZZ3MJjPLg0ZkiTQpZtmzZPHLyFgIIIIAAAggkqsDJkyfNREfgez2vdhIY5aETuHymQRGBUR5QvIUAAggggIALBMJZFpP3hTYXdJImIoAAAggggAACTgkQGDklSTkIIIAAAggg4HoBAiPXDyEdQAABBBBAAAGnBAiMnJKkHAQQQAABBBBwvQCBkeuHkA4ggAACCCCAgFMCBEZOSVIOAggggAACCLhegMDI9UNIBxBAAAEEEEDAKQECI6ckKQcBBBBAAAEEXC8QUWA0adIkuf76682dI6tWrSq9e/eWHTt2hCDcfPPN5u+KZX089NBDIXn2798vPXv2lJIlS5pyxowZI5cvXw7Js3LlSsnIyJASJUpIgwYNZMaMGTmwp02bJnXr1pWUlBRp3769rF+/PiTP+fPnZfjw4VKpUiUpXbq03HHHHXLkyJEc5XAAAQQQQAABBBBQgYgCo1WrVplAY926dbJ06VK5dOmSdOvWTc6cOROiOXToUDl06FDwMXny5OD7V65cMUHRxYsXZc2aNfLOO++YoGf8+PHBPHv37jV5brnlFtm0aZOMHDlS7r//flmyZEkwz6xZs2T06NEyYcIE2bhxo7Rs2VK6d+8uR48eDeYZNWqUfPLJJzJnzhzRtuvfPuvbty8jjwACCCCAAAII5CqQZP/FWSvXd8I4+OOPP5oZHw06OnfubM7QGaNWrVrJlClTci1h0aJF8pvf/MYEKdWqVTN5pk+fLmPHjhUtr3jx4ubnBQsWyJYtW4Jl3HXXXXL8+HFZvHixOaYzRDp79dprr5nXmZmZ5u+gPPLII/LHP/5RTpw4IVWqVJH33ntPfvvb35o827dvl/T0dFm7dq3ccMMN5lheSf+2Srly5UxZ/EmQvKR4DwEECipw9uxZ839TfuncuXOyb98+M0uempqaX3Zp0qSJmZUnIYCASCTf51H9rTQNGDRVrFgxxP3dd9+VmTNnSvXq1aVXr17y9NNPB/+BalDSvHnzYFCkJ+pMz7Bhw2Tr1q3SunVrE7h07do1pEzNozNHmnS2acOGDTJu3LhgnuTkZHOOnqtJ39cZrazl6H8UtWvXvmpgdOHCBdFHICkkCQEEEIilgAZFbdq0cbwK/T9QlyOQEEAgMoECB0Y6Q6OBSseOHeW6664L1nr33XdLnTp1JC0tTb755hsz+6PrkP75z3+aPIcPHw4JivRYYOZI38srjwYq+lvTsWPHRC/JBc4LVK6vA795aVk6+1S+fPnA2+ZZ8wTqCXnDfqFrqCZOnJj9MK8RQACBmAnoL2waxOSXtm3bJgMGDDC/dOrMd35JyyUhgEDkAgUOjHStkV7q+vTTT0NqfeCBB4KvdWaoRo0a0qVLF9mzZ49ce+21kbcwjmfoDJSuWwokDcT08hwJAQQQiJWAXu6KZGZHg6JI8seq3ZSLgFcFIlp8HUAYMWKEzJ8/X1asWCE1a9bM00bXAmnavXu3edbLa9l3hgVe63t55dF1PnptvXLlylKkSJFcy8lahl5y03VJWZPWFcgT8ob9QnfAaR1ZH9nz8BoBBBBAAAEEvCsQUWCk67Q1KJo7d64sX75c6tWrl6+M7irTpDNHmjp06CCbN28O2T2mO9w0GGnatGkwz7Jly0LK1jx6ria9RKbX5LPm0Ut7+jqQR98vVqxYSB69pKe3CgjkCamAFwgggAACCCDge4GILqXp5TPd5TVv3jxzL6PAWh3duaUzOXq5TN//9a9/be4dpGuMdMu87lhr0aKFwdbt/RoADRw4UHQbv5bx1FNPmdsA6IyNJr3vke42e+KJJ+S+++4zQdjs2bPNTrVA0ktegwYNkrZt20q7du3MLji9bcDgwYNNFm3TkCFDzKUxXRyugZfuWNOgKJwdacGK+AEBBBBAAAEE/COg2/XDTbaKbu3P8Xj77bdNEfZsjGUHQZYdiFh2kGPZN2a07Js3WvbutZAq7C2nVo8ePSw7mLLsy2LWY489Ztk7yELy2JfpLHvbv2XPDln169e3AnVkzfTqq69a9i4zk8cOjiz7/kohZdgLta2HH37YqlChgmVfx7f69Olj2fdXCsmT1wttt/Y3e/vzOof3EEAAgVgI2Au0zf9H+kxCAIHIBCL5Po/qPkZeDx8jue+B1y3oHwIIFK6A3shWlwiwDb9wx4Ha3SkQyfd5RGuM3MlBqxFAAAEEEEAAgfAECIzCcyIXAggggAACCPhAgMDIB4NMFxFAAAEEEEAgPAECo/CcyIUAAggggAACPhAgMPLBINNFBBBAAAEEEAhPgMAoPCdyIYAAAggggIAPBAiMfDDIdBEBBBBAAAEEwhMgMArPiVwIIIAAAggg4AMBAiMfDDJdRAABBBBAAIHwBAiMwnMiFwIIIIAAAgj4QIDAyAeDTBcRQAABBBBAIDwBAqPwnMiFAAIIIIAAAj4QIDDywSDTRQQQQAABBBAIT4DAKDwnciGAAAIIIICADwQIjHwwyHQRAQQQQAABBMITIDAKz4lcCCCAAAIIIOADAQIjHwwyXUQAAQQQQACB8AQIjMJzIhcCCCCAAAII+ECAwMgHg0wXEUAAAQQQQCA8AQKj8JzIhQACCCCAAAI+ECAw8sEg00UEEEAAAQQQCE+AwCg8J3IhgAACCCCAgA8ECIx8MMh0EQEEEEAAAQTCEyAwCs+JXAgggAACCCDgAwECIx8MMl1EAAEEEEAAgfAECIzCcyIXAggggAACCPhAgMDIB4NMFxFAAAEEEEAgPAECo/CcyIUAAggggAACPhAgMPLBINNFBBBAAAEEEAhPgMAoPCdyIYAAAggggIAPBAiMfDDIdBEBBBBAAAEEwhMgMArPiVwIIIAAAggg4AMBAiMfDDJdRAABBBBAAIHwBAiMwnMiFwIIIIAAAgj4QIDAyAeDTBcRQAABBBBAIDwBAqPwnMiFAAIIIIAAAj4QIDDywSDTRQQQQAABBBAIT4DAKDwnciGAAAIIIICADwQIjHwwyHQRAQQQQAABBMITIDAKz4lcCCCAAAIIIOADAQIjHwwyXUQAAQQQQACB8AQIjMJzIhcCCCCAAAII+ECAwMgHg0wXEUAAAQQQQCA8gYgCo0mTJsn1118vZcqUkapVq0rv3r1lx44dITWdP39ehg8fLpUqVZLSpUvLHXfcIUeOHAnJs3//funZs6eULFnSlDNmzBi5fPlySJ6VK1dKRkaGlChRQho0aCAzZszI0aNp06ZJ3bp1JSUlRdq3by/r16+PuC05CuUAAggggAACCPhWIKLAaNWqVSboWbdunSxdulQuXbok3bp1kzNnzgQBR40aJZ988onMmTNHNP/Bgwelb9++wfevXLligqKLFy/KmjVr5J133jFBz/jx44N59u7da/LccsstsmnTJhk5cqTcf//9smTJkmCeWbNmyejRo2XChAmyceNGadmypXTv3l2OHj0adlt8O+p0HAEEEEAAAQRyF7CiSHYQYtmlWnYAZEo5fvy4VaxYMcsOioKlbtu2zeRZu3atObZw4UIrOTnZOnz4cDDPG2+8YZUtW9a6cOGCOfbEE09YzZo1C76vP/Tr18+yA5/gsXbt2ll2kBZ8bQdcVlpammXPaplj4bQlpIJcXpw4ccK0XZ9JCCCAQGEKbNiwwfx/pM8kBBCITCCS7/OiuYdL4R21KzIZK1asaJ7tf7BmFqlr167BApo0aSK1a9cWOzCSG264wTw3b95cqlWrFsyjMz3Dhg2TrVu3SuvWrU2erGVoRs2jM0eadLZJ6xo3blywDDvYMufouZrCaUvw5F9+sAMz0UcgnTx5MnsWXiOAAAIIIOB5gbNnz8r27dvD6ue5c+dk3759ZmlLampqvudoXKBLaRI1FTgwyszMNIFKx44d5brrrjP9s2eBpHjx4lK+fPmQ/moQpO8F8mQNivRY4HV+eTRQ0QE4duyY6CW53MoJDGQ4bQlppP1C11BNnDgx+2FeI4AAAggg4CsB/S5t06ZNTPqsExe6hjhRU4EDI11rtGXLFvn0008TtW8Rt0tnoHTdUiBpIFarVq2Iy+EEBBBAAAEE3CygszoawIST7CUzMmDAAJk5c6akp6fne4qWncipQIHRiBEjZP78+bJ69WqpWbNmsH/Vq1c3l7ns9T0hs0a6K03f06TP2XePBXatZc2TfSebvrbXIZlpuiJFiphHbnmylpFfW7IPjO6A0wcJAQQQQAABPwvopa5IZ3U0KIr0nEQ0jmhXmr3USTQomjt3rixfvlzq1asX0ieddrMXX8uyZcuCx3U7v27P79Chgzmmz5s3bw7ZPaY73DToadq0aTBP1jL0oOYJlKGX67SurHn00p6+DuQJpy0hjecFAggggAACCPheIKIZI7189t5778m8efPMvYwCa4LKlStnZnL0eciQIeZylC7I1mDnkUceMcGKLrzWpNv7NQAaOHCgTJ482ZTx1FNPmdsABGZrHnroIXnttdfE3p0m9913nwnCZs+eLQsWLAgOmNYxaNAgadu2rdg71GTKlCnmtgGDBw82ecJpi+9HHwAEEEAAAQQQCBWIZMObfabZLpr98fbbbweLsRdHWw8//LBVoUIFy56Ks/r06WMdOnQopBp79brVo0cPyw6mrMqVK1uPPfaYZe9mC8mzYsUKq1WrVpY9O2TVr1/fylpHIOOrr75q2TveTB7dvm/fXymkjHDaklf/I9nel1c5vIcAAghEK8B2/WgFOT9WAm74bEbyfZ6kUASLuQvo4mudedLbEujsFwkBBBAoLAG9ka0uEUj0HT2F5UO9hSfghs9mJN/nEa0xKjx2akYAAQQQQAABBGIvQGAUe2NqQAABBBBAAAGXCBAYuWSgaCYCCCCAAAIIxF6AwCj2xtSAAAIIIIAAAi4RIDByyUDRTAQQQAABBBCIvQCBUeyNqQEBBBBAAAEEXCJAYOSSgaKZCCCAAAIIIBB7AQKj2BtTAwIIIIAAAgi4RIDAyCUDRTMRQAABBBBAIPYCBEaxN6YGBBBAAAEEEHCJAIGRSwaKZiKAAAIIIIBA7AUIjGJvTA0IIIAAAggg4BIBAiOXDBTNRAABBBBAAIHYCxAYxd6YGhBAAAEEEEDAJQIERi4ZKJqJAAIIIIAAArEXIDCKvTE1IIAAAggggIBLBAiMXDJQNBMBBBBAAAEEYi9AYBR7Y2pAAAEEEEAAAZcIEBi5ZKBoJgIIIIAAAgjEXoDAKPbG1IAAAggggAACLhEgMHLJQNFMBBBAAAEEEIi9AIFR7I2pAQEEEEAAAQRcIkBg5JKBopkIIIAAAgggEHsBAqPYG1MDAggggAACCLhEgMDIJQNFMxFAAAEEEEAg9gIERrE3pgYEEEAAAQQQcIkAgZFLBopmIoAAAggggEDsBQiMYm9MDQgggAACCCDgEgECI5cMFM1EAAEEEEAAgdgLEBjF3pgaEEAAAQQQQMAlAgRGLhkomokAAggggAACsRcgMIq9MTUggAACCCCAgEsECIxcMlA0EwEEEEAAAQRiL0BgFHtjakAAAQQQQAABlwgQGLlkoGgmAggggAACCMRegMAo9sbUgAACCCCAAAIuESAwcslA0UwEEEAAAQQQiL0AgVHsjakBAQQQQAABBFwiQGDkkoGimQgggAACCCAQewECo9gbUwMCCCCAAAIIuESAwMglA0UzEUAAAQQQQCD2AgRGsTemBgQQQAABBBBwiQCBkUsGimYigAACCCCAQOwFCIxib0wNCCCAAAIIIOASgYgDo9WrV0uvXr0kLS1NkpKS5KOPPgrp6u9//3tzPOvjtttuC8nz888/yz333CNly5aV8uXLy5AhQ+T06dMheb755hvp1KmTpKSkSK1atWTy5Mk5SOfMmSNNmjQxeZo3by4LFy4MyWNZlowfP15q1Kghqamp0rVrV9m1a1eOcjiAAAIIIIAAAgioQMSB0ZkzZ6Rly5Yybdq0qwpqIHTo0KHg4/333w/Jq0HR1q1bZenSpTJ//nzRYOuBBx4I5jl58qR069ZN6tSpIxs2bJAXX3xRnnnmGXnzzTeDedasWSP9+/c3QdVXX30lvXv3No8tW7YE82gw9corr8j06dPl888/l1KlSkn37t3l/PnzV207byCAAAIIIICAjwXsWZUCJ5vNmjt3bsj5gwYNsm6//farlvntt99aet4XX3wRzLNo0SLLnmGyfvjhB3Ps9ddftypUqGBduHAhmGfs2LFW48aNg6/vvPNOq2fPniH1tG/f3nrwwQfNsczMTKt69eqWHVQF8xw/ftwqUaKEZQdqIedd7cWJEydMW/WZhAACCBSmgP1Lovn/SJ9JCCSSgBs+m5F8nxeNRUy4cuVKqVq1qtjBjdx6663y7LPPSqVKlUxVa9euNZfP2rZtG6xaL3ElJyebWZ0+ffqYPJ07d5bixYsH8+hMzwsvvCDHjh0z5Wqe0aNHhzRf8wQu7e3du1cOHz5sLp8FUrly5cQOnsy5d911V8i5+sIOxMwjkHTmioQAAggggICXBHRJyalTpxzr0rZt20xZgWenCi5Tpow0bNjQqeLCLsfxwEgvo/Xt21fq1asne/bskSeffFJ69OhhgpEiRYqYYEWDpqypaNGiUrFiRfOeJn3W87OmatWqBd/TwEjzBI4F8unrrGXo8bzyhFRgv5g0aZJMnDgx+2FeI4AAAggg4AkBDYoaNWoUk74MGDDA8XJ37twZ9+DI8cAo60yMLohu0aKFXHvttaKzSF26dHEczckCx40bFzILpTNGuvCbhAACCCCAgBcEAjNFM2fOlPT0dEe6dO7cOdm3b5/UrVvXbHRyIunskwZaTs5shdsuxwOj7BXXr19fKleuLLt37zaBkb3uR44ePRqS7fLly6I71fQ9Tfp85MiRkDyB1/nlyfq+FqDn6a60QNLXrVq1Cik78MJefyT6ICGAAAIIIOBlAQ2KMjIyHOtix44dHSursAuKeFdapA3+/vvv5aeffgoGJx06dBB7EbTZbRZIy5cvF3uxtFn/o0nz6E61S5cuBfPoDjZ78bVZXxTIs2zZsuD7+oPm0XM16aU4DZKy5tEZIF3HFMgTcjIvEEAAAQQQQMD3AhEHRnq/oU2bNpmHJl3krD/v37/f3ItozJgxsm7dOjOtpkGJvUNNGjRoYLbJa9IoVdchDR06VNavXy+fffaZjBgxwiyG1nsjabr77rvNwmvdiq/b+mfNmiVTp04Nucz16KOPyuLFi+Wll16S7du3m+38X375pSlLk95HaeTIkWbh98cffyybN2+We++919Sh2/pJCCCAAAIIIIBADoFIt/ytWLHCbBnN/tBt+mfPnrXs+w9ZVapUsYoVK2bZ9yGy7ADIshdEh1RjzyBZ9j2IrNKlS1v2TR6twYMHW/Z1xJA8X3/9tXXjjTea7fXXXHON9fzzz+do6uzZsy17EZllB1FWs2bNrAULFoTk0S37Tz/9tGUvwDbl2JfyrB07duQo52oHItned7UyOI4AAgg4IeCGLdFO9JMyYivgls+R0+2M5Ps8SYcgR7TEASOgl950i78Nau7STUIAAQQKS2Djxo3Spk0bswzBybUhhdUf6i0cAbd8jpxuZyTf5xFfSiucoaRWBBBAAAEEEEAg9gIERrE3pgYEEEAAAQQQcIkAgZFLBopmIoAAAggggEDsBQiMYm9MDQgggAACCCDgEgECI5cMFM1EAAEEEEAAgdgLEBjF3pgaEEAAAQQQQMAlAgRGLhkomokAAggggAACsRcgMIq9MTUggAACCCCAgEsECIxcMlA0EwEEEEAAAQRiL0BgFHtjakAAAQQQQAABlwgQGLlkoGgmAggggAACCMRegMAo9sbUgAACCCCAAAIuESAwcslA0UwEEEAAAQQQiL0AgVHsjakBAQQQQAABBFwiQGDkkoGimQgggAACCCAQewECo9gbUwMCCCCAAAIIuESgqEvaSTMRQAABVwns2rVLTp065Vibt23bZsoKPDtVcJkyZaRhw4ZOFUc5CLhegMDI9UNIBxBAINEENChq1KhRTJo1YMAAx8vduXMnwZHjqhToVgECI7eOHO1GAIGEFQjMFM2cOVPS09Mdaee5c+dk3759UrduXUlNTXWkTJ190kDLyZktRxpGIQgUogCBUSHiUzUCCHhbQIOijIwMxzrZsWNHx8qiIAQQyF2Axde5u3AUAQQQQAABBHwoQGDkw0GnywgggAACCCCQuwCBUe4uHEUAAQQQQAABHwoQGPlw0OkyAggggAACCOQuQGCUuwtHEUAAAQQQQMCHAgRGPhx0uowAAggggAACuQsQGOXuwlEEEEAAAQQQ8KEAgZEPB50uI4AAAggggEDuAgRGubtwFAEEEEAAAQR8KEBg5MNBp8sIIIAAAgggkLsAgVHuLhxFAAEEEEAAAR8KEBj5cNDpMgIIIIAAAgjkLkBglLsLRxFAAAEEEEDAhwIERj4cdLqMAAIIIIAAArkLEBjl7sJRBBBAAAEEEPChAIGRDwedLiOAAAIIIIBA7gIERrm7cBQBBBBAAAEEfChAYOTDQafLCCCAAAIIIJC7AIFR7i4cRQABBBBAAAEfChAY+XDQ6TICCCCAAAII5C5AYJS7C0cRQAABBBBAwIcCBEY+HHS6jAACCCCAAAK5CxAY5e7CUQQQQAABBBDwoUDEgdHq1aulV69ekpaWJklJSfLRRx+FsFmWJePHj5caNWpIamqqdO3aVXbt2hWS5+eff5Z77rlHypYtK+XLl5chQ4bI6dOnQ/J888030qlTJ0lJSZFatWrJ5MmTcwzPnDlzpEmTJiZP8+bNZeHChRG3JUehHEAAAQQQQAAB3wpEHBidOXNGWrZsKdOmTcsVTQOYV155RaZPny6ff/65lCpVSrp37y7nz58P5tegaOvWrbJ06VKZP3++aLD1wAMPBN8/efKkdOvWTerUqSMbNmyQF198UZ555hl58803g3nWrFkj/fv3N0HVV199Jb179zaPLVu2BPOE05ZcO8FBBBBAAAEEEPCngD3DU+Bki1lz584Nnp+ZmWlVr17dsgOZ4LHjx49bJUqUsN5//31z7Ntvv7X0vC+++CKYZ9GiRZY9+2T98MMP5tjrr79uVahQwbpw4UIwz9ixY63GjRsHX995551Wz549g6/1h/bt21sPPvigORZOW0JOzuXFiRMnTFv1mYQAAgiEK2D/Qmf+79DnRE5uaWciG7qtbW4Zc6fbGcn3eVEnw8G9e/fK4cOHzeWzQCpXrpzYAYusXbtW7rrrLvOsl8/atm0bzKP5k5OTzQxTnz59TJ7OnTtL8eLFg3l01umFF16QY8eOiR00mTyjR48Oab7mCVzaC6ct2ftuB2Kij0DSmSsSAggggAACXhFIunxeWldPltTjO0UORnzRKG4M2j5tp7Y33snRwEiDIk3VqlUL6Ye+Drynz1WrVg15v2jRolKxYsWQPPXq1ctRhh7Q8zUw0uf86smvLSEV2C8mTZokEydOzH6Y1wgggAACCHhCIOX0ftn4YGmR1Q/aj8TtUrrdNG3nNru9Ir+Ka0MdDYzi2vIYVDZu3LiQWSidMdKF3yQEEEAAAQS8IHC+dG3J+NtpeffddyXd3ryUqGnb9u1mk9b//Lp23JvoaGBkry8yHThy5IjZlRZI+rpVq1bmpeY5evRo8D394fLly6I71QLn67OekzUFXueXJ+v7en5ebQmpwH5hr4UyDxICCCAQjQCXK6LR49xYClhFU+Srw5lyrnwjkbT/fi/Hsr6Cln3ObqO2U9sb7+RoYKSXvzQwWbZsWTAQ0lkXXTs0bNgw07cOHTqIvSDb7DZr06aNObZ8+XKxF0ubtUiBPH/605/k0qVLUqxYMXNMd7DZi6/NZbRAHq1n5MiR5rUmzaPlawqnLb+cxhMCCCDgqACXKxzlpDAE4ioQcWCk9xvavXt3sJG6yHnTpk1mjVDt2rVNoPLss89Kw4YNTXDy9NNPm3se6VZ6Tenp6XLbbbfJ0KFDzZZ+DX5GjBhhFmZrPk133323WeujW/Ht3WhmC/7UqVPl5ZdfDtb76KOPyk033SQvvfSS2LvT5IMPPpAvv/wyuKVf77GUX1uChfEDAggg4KAAlyscxKQoBOItEOlWwxUrVphtqNkfgwYNMkXpNnk7GLLshdFmm36XLl2sHTt2hFTz008/WfY9iKzSpUtb9k0ercGDB1unTp0KyfP1119bN954oynjmmuusZ5//vkcTZ09e7bVqFEjy969ZjVr1sxasGBBSJ5w2pKj0CwHItnel1c5vIcAAv4ScHqrcaz03NLOWPXfj+W6Zcydbmck3+dJ+sGIdzDmlvr0MqDebsAGNXfpJiGAAALhCGzcuNEsFdAlAxkZGeGcUih53NLOQsHxaKVuGXOn2xnJ93ni3sTAox9KuoUAAggggAACiStAYJS4Y0PLEEAAAQQQQCDOAgRGcQanOgQQQAABBBBIXAECo8QdG1qGAAIIIIAAAnEWIDCKMzjVIYAAAggggEDiChAYJe7Y0DIEEEAAAQQQiLMAgVGcwakOAQQQQAABBBJXgMAocceGliGAAAIIIIDPzo20AAAT20lEQVRAnAUIjOIMTnUIIIAAAgggkLgCBEaJOza0DAEEEEAAAQTiLEBgFGdwqkMAAQQQQACBxBUgMErcsaFlCCCAAAIIIBBnAQKjOINTHQIIIIAAAggkrgCBUeKODS1DAAEEEEAAgTgLEBjFGZzqEEAAAQQQQCBxBQiMEndsaBkCCCCAAAIIxFmAwCjO4FSHAAIIIIAAAokrQGCUuGNDyxBAAAEEEEAgzgIERnEGpzoEEEAAAQQQSFwBAqPEHRtahgACCCCAAAJxFiAwijM41SGAAAIIIIBA4goQGCXu2NAyBBBAAAEEEIizAIFRnMGpDgEEEEAAAQQSV4DAKHHHhpYhgAACCCCAQJwFCIziDE51CCCAAAIIIJC4AgRGiTs2tAwBBBBAAAEE4ixAYBRncKpDAAEEEEAAgcQVIDBK3LGhZQgggAACCCAQZwECoziDUx0CCCCAAAIIJK4AgVHijg0tQwABBBBAAIE4CxAYxRmc6hBAAAEEEEAgcQUIjBJ3bGgZAggggAACCMRZgMAozuBUhwACCCCAAAKJK0BglLhjQ8sQQAABBBBAIM4CBEZxBqc6BBBAAAEEEEhcAQKjxB0bWoYAAggggAACcRYgMIozONUhgAACCCCAQOIKEBgl7tjQMgQQQAABBBCIswCBUZzBqQ4BBBBAAAEEEleAwChxx4aWIYAAAggggECcBQiM4gxOdQgggAACCCCQuAIERok7NrQMAQQQQAABBOIsQGAUZ3CqQwABBBBAAIHEFSAwStyxoWUIIIAAAgggEGcBxwOjZ555RpKSkkIeTZo0CXbr/PnzMnz4cKlUqZKULl1a7rjjDjly5EhIt/fv3y89e/aUkiVLStWqVWXMmDFy+fLlkDwrV66UjIwMKVGihDRo0EBmzJiRg27atGlSt25dSUlJkfbt28v69etz5OEAAggggAACCCAQECgaC4pmzZrJv//972DRRYv+fzWjRo2SBQsWyJw5c6RcuXIyYsQI6du3r3z22Wcm/5UrV0xQVL16dVmzZo0cOnRI7r33XilWrJg899xzJs/evXtNnoceekjeffddWbZsmdx///1So0YN6d69u8kza9YsGT16tEyfPt0ERVOmTDHv7dixwwRbJAQQQAABBPwmcPbsWdPljRs3Otb1c+fOyb59+8xERGpqqiPlbtu2zZFyClSI5XCaMGGC1bJly1xLPX78uGUHOJYdFAXftztv2Q231q5da44tXLjQSk5Otg4fPhzM88Ybb1hly5a1Lly4YI498cQTlh18Bd/XH/r162fZgU/wWLt27Sx7Zir42g64rLS0NGvSpEkh52V9Yc9mWSdOnAg+Dhw4YNqmx0gIIIBAuAIbNmww/3focyInt7QzkQ3d1ra33nrLfDbd8ti5c6cjxPo9Hu73eUxmjHbt2iV2EGIuYXXo0EHsYERq164t9j9CuXTpknTt2jUYxOllNn3PDozkhhtuMM/NmzeXatWqBfPoTM+wYcNk69at0rp1a5MnaxmaUfOMHDnSnHPx4kVT17hx44Jl2MGWOUfPvVrSdk6cOPFqb3McAQQQQAABVwv07t3btF+/e3W5ihNJZ3cGDBggM2fOlPT0dCeKNGWUKVNGGjZs6Fh54RbkeGCkl610vU/jxo3NZTANNDp16iRbtmwRexZIihcvLuXLlw9pnwZB+p4mfc4aFOmxwOv88pw8eVJ0Su/YsWPmklxu5Wzfvv2qNhpI6eW3QNLyatWqddX8vIEAAggggICbBCpXrmyWnsQiaVCka3/dnhwPjHr06BE0adGihVnfU6dOHZk9e7Zj1x5jha4LufVBQgABBBBAAAF/Cji+Ky07o84ONWrUSHbv3m0WVOtlLnutUUg23ZWm72nS5+y71AKv88tjr0MywZdGxEWKFMm1nEAZ2dvJawQQQAABBBBAIOaB0enTp2XPnj1mx1ibNm3M7jLdRRZIuktMt+frWiRN+rx582Y5evRoMM/SpUtFg56mTZsG82QtQw9qnkAZerlO68qaJzMz07wO5AkWzg8IIIAAAggggMAvAo4HRo8//risWrXKbN3T7fZ9+vQxszf9+/c32/OHDBli1vGsWLHCLJAePHiwCVZ04bWmbt26mQBo4MCB8vXXX8uSJUvkqaeeMvc+Clzm0m363333ndi700TXDL3++uvmUp3eCiCQtA579b288847ogvDdPH2mTNnTH0kBBBAAAEEEEAgNwHH1xh9//33Jgj66aefpEqVKnLjjTfKunXrzM+aXn75ZdEdYnpjR3v7vdlNpoFNIGkQNX/+fBPIaMBUqlQpGTRokPz5z38O5qlXr565F5IGQlOnTpWaNWvK3//+9+A9jDSjvX1ffvzxRxk/frxZ0N2qVStZvHhxjgXZwUL5AQEEEEAAAQR8L5CkNwjwvcJVAHRXms5y2fc/MJfySAgggEA4AnrzPL2cr7PiibxLxy3tDMecPIUn4IbPUSTf545fSiu8oaFmBBBAAAEEEEAgOgECo+j8OBsBBBBAAAEEPCRAYOShwaQrCCCAAAIIIBCdAIFRdH6cjQACCCCAAAIeEiAw8tBg0hUEEEAAAQQQiE6AwCg6P85GAAEEEEAAAQ8JEBh5aDDpCgIIIIAAAghEJ0BgFJ0fZyOAAAIIIICAhwQIjDw0mHQFAQQQQAABBKITIDCKzo+zEUAAAQQQQMBDAgRGHhpMuoIAAggggAAC0QkQGEXnx9kIIIAAAggg4CEBAiMPDSZdQQABBBBAAIHoBAiMovPjbAQQQAABBBDwkACBkYcGk64ggAACCCCAQHQCBEbR+XE2AggggAACCHhIgMDIQ4NJVxBAAAEEEEAgOgECo+j8OBsBBBBAAAEEPCRAYOShwaQrCCCAAAIIIBCdAIFRdH6cjQACCCCAAAIeEiAw8tBg0hUEEEAAAQQQiE6AwCg6P85GAAEEEEAAAQ8JEBh5aDDpCgIIIIAAAghEJ0BgFJ0fZyOAAAIIIICAhwQIjDw0mHQFAQQQQAABBKITIDCKzo+zEUAAAQQQQMBDAgRGHhpMuoIAAggggAAC0QkQGEXnx9kIIIAAAggg4CEBAiMPDSZdQQABBBBAAIHoBAiMovPjbAQQQAABBBDwkACBkYcGk64ggAACCCCAQHQCBEbR+XE2AggggAACCHhIgMDIQ4NJVxBAAAEEEEAgOgECo+j8OBsBBBBAAAEEPCRAYOShwaQrCCCAAAIIIBCdAIFRdH6cjQACCCCAAAIeEiAw8tBg0hUEEEAAAQQQiE6AwCg6P85GAAEEEEAAAQ8JEBh5aDDpCgIIIIAAAghEJ0BgFJ0fZyOAAAIIIICAhwQIjDw0mHQFAQQQQAABBKITIDCKzo+zEUAAAQQQQMBDAgRGHhpMuoIAAggggAAC0Qn4IjCaNm2a1K1bV1JSUqR9+/ayfv366NQ4GwEEEEAAAQQ8KeD5wGjWrFkyevRomTBhgmzcuFFatmwp3bt3l6NHj3pyQOkUAggggAACCBRcwPOB0V//+lcZOnSoDB48WJo2bSrTp0+XkiVLyj/+8Y+Cq3EmAggggAACCHhSoKgne/VLpy5evCgbNmyQcePGBbuZnJwsXbt2lbVr1+bo+oULF0QfgXTy5MkceTiAgFcF/nPogPzv3P/Jt3tnz56RPXu+yzdfQTJce219+xeXUvmees01adKuxwCR4iXzzVsYGc6ePWuq1Vnq/NK5c+dk3759+WWL+H1dPpCamprnedu2bcvzfd70r4B+hrdv3x4WQOBzFO7nqUmTJmaCIlGTpwOj//znP3LlyhWpVq1aiL++zm3AJ02aJBMnTkzUsaJdCMRUQIOiPkdfDq+O0H9S4Z0TTq7TdiZ95JfsK+F7q1SVer/qnV/OQnk/8P+Lzla7IZUpU8YNzaSNcRTQz3CbNm0iqnHAAPuXlTCSTlhkZGSEkbNwsng6MIqUVGeWdD1SIOmMUa1atSIthvwIuFKgU58hMndu/k1PmBmjtt3yb2wh5ejd+78BWzi/GRfmjJHyaFDUsGHDQpKi2kQV0M+uBjDhpMBnOJxZSi1Py07klGTZKZEbGE3b9FKaTtd9+OGHEviPSssbNGiQHD9+XObNm5dn8RoYlStXTk6cOCFly5bNMy9vIoAAAggggEBiCkTyfe7pxdfFixc3U4HLli0LjlRmZqZ53aFDh8QcPVqFAAIIIIAAAoUm4PlLaXppTGeI2rZtK+3atZMpU6bImTNnzC41EgIIIIAAAgggkFXA84FRv3795Mcff5Tx48fL4cOHpVWrVrJ48eIcC7L5WCCAAAIIIIAAAp5eYxTt8EZyTTLaujgfAQQQQAABBGIjEMn3uafXGMWGl1IRQAABBBBAwKsCBEZeHVn6hQACCCCAAAIRCxAYRUzGCQgggAACCCDgVQECI6+OLP1CAAEEEEAAgYgFCIwiJuMEBBBAAAEEEPCqgOe360czcIGbgvPHZKNR5FwEEEAAAQQKVyDwPR7OH/sgMMpjrE6dOmXe5e+l5YHEWwgggAACCLhEQL/X9U995ZW4j1EeOvrnQw4ePGj+yGJSUlIeOQv3rcAfuz1w4AB/0y3KocAySsBsp+PpnCeWWDon4GxJbvhs6kyRBkVpaWmSnJz3KiJmjPL4fChezZo188iRWG/pH7rlj906MyZYOuMYKAVP5zyxxNI5AWdLSvTPZn4zRQGNvMMmZ80oDQEEEEAAAQQQSGgBAqOEHh4ahwACCCCAAALxFCjyjJ3iWSF1xUagSJEicvPNN0vRolwdjVYYy2gFQ8/H0zlPLLF0TsDZkrz02WTxtbOfDUpDAAEEEEAAARcLcCnNxYNH0xFAAAEEEEDAWQECI2c9KQ0BBBBAAAEEXCxAYOTiwaPpCCCAAAIIIOCsAIGRs56UhgACCCCAAAIuFiAwcvHg0XQEEEAAAQQQcFaAwMhZz7iWtnr1aunVq5e5xbn+yZKPPvoorvV7qbJJkybJ9ddfb/78S9WqVaV3796yY8cOL3Uxbn154403pEWLFuYu7Pro0KGDLFq0KG71e7mi559/3vxbHzlypJe7GbO+6d1p1C/ro0mTJjGrz+sF//DDDzJgwACpVKmSpKamSvPmzeXLL790fbcJjFw8hGfOnJGWLVvKtGnTXNyLxGj6qlWrZPjw4bJu3TpZunSpXLp0Sbp16yZqTIpMQP+Mjn6Bb9iwwfwneeutt8rtt98uW7dujawgcocIfPHFF/K3v/3NBJ2kggs0a9ZMDh06FHx8+umnBS/Mx2ceO3ZMOnbsKMWKFTO/+Hz77bfy0ksvSYUKFVyvwt0AXTyEPXr0EH2QohdYvHhxSCEzZswwM0f65d65c+foK/BRCTqLmTX95S9/EZ1F0qBTv5RIkQucPn1a7rnnHnnrrbfk2WefjbwAzggK6E1wq1evjkiUAi+88ILUqlVL3n777WBJ9erVi7LUxDidGaPEGAdakWACJ06cMC2qWLFigrXMXc25cuWKfPDBB2bmTS+pkQomoLOZPXv2lK5duxasAM4KCuzatcssP6hfv74JNvfv349OAQQ+/vhjadu2rfzud78zv0S2bt3aBO5eSMwYeWEU6YOjApmZmWYNh04TX3fddY6W7ZfCNm/ebAKh8+fPS+nSpWXu3LnStGlTv3Tf0X5qYLlx40bRS2mk6ATat28vOhvcuHFjcylt4sSJ0qlTJ9myZYtZX0gKX+C7774zM8GjR4+WJ5980nw+//CHP0jx4sVl0KBB4ReUgDkJjBJwUGhS4Qrob+f6HyVrDwo+DvrFs2nTJtGZtw8//ND8R6nruAiOIjM9cOCAPProo2bdW0pKSmQnkzuHQNalB7pWSwOlOnXqyOzZs2XIkCE58nPg6gL6C6TOGD333HMmk84Y6f+b06dPd31gxKW0q4877/hQYMSIETJ//nxZsWKF6CJiUsEE9LfGBg0aSJs2bUR3/OkmgalTpxasMB+fpWvcjh49KhkZGeYPROtDA8xXXnnF/KyXKkkFFyhfvrw0atRIdu/eXfBCfHpmjRo1cvyik56e7olLk8wY+fRDTbdDBSzLkkceecRc8lm5cqV4ZRFhooyz/nZ54cKFRGmOa9rRpUsX0cuSWdPgwYNFt5iPHTtW9C+akwouoIva9+zZIwMHDix4IT49U5caZL+lyc6dO80MnNsTgZGLR1D/UWf9TWfv3r3m8oUuGK5du7aLexb/puvls/fee0/mzZtn1hocPnzYNKJcuXLm/hyk8AXGjRtndkvqZ/DUqVPGVYPNJUuWhF8IOY2Afhazr3MrVaqUuW9M9uOQ5S/w+OOPm3u/6Zf3wYMHZcKECSa47N+/f/4nkyNEYNSoUfKrX/3KXEq78847Zf369fLmm2+ah+uT/ZsyyaUC9uUey/4A5njY6zlc2qPCa3ZujnrM3opaeI1yac333XefZX/xWPblNKtKlSqWPeth/etf/3JpbxKv2TfddJNlrztKvIa5oEX9+vWz7EtA5rN5zTXXWPra/uXSBS1PzCZ+8sknlh2gWyVKlLDsWUzLDooSs6ERtipJ87s+uqMDCCCAAAIIIICAAwIsvnYAkSIQQAABBBBAwBsCBEbeGEd6gQACCCCAAAIOCBAYOYBIEQgggAACCCDgDQECI2+MI71AAAEEEEAAAQcECIwcQKQIBBBAAAEEEPCGAIGRN8aRXiCAAAIIIICAAwIERg4gUgQCCCCAAAIIeEOAwMgb40gvEEAAAQQQQMABAQIjBxApAgEEEEAAAQS8IUBg5I1xpBcIIIAAAggg4IAAgZEDiBSBAAIIIIAAAt4Q+D/DM69J9RRvWwAAAABJRU5ErkJggg==)"
      ],
      "metadata": {
        "id": "t-5clDDnLVD1"
      }
    },
    {
      "cell_type": "markdown",
      "metadata": {
        "id": "oI2OkuDIp3Q-"
      },
      "source": [
        "## 7. Check for Categorical columns and perform encoding"
      ]
    },
    {
      "cell_type": "code",
      "execution_count": 17,
      "metadata": {
        "id": "DcQEhPoip3Q-",
        "outputId": "3ec33ecf-a724-43b4-fe76-770c876ce752",
        "colab": {
          "base_uri": "https://localhost:8080/"
        }
      },
      "outputs": [
        {
          "output_type": "stream",
          "name": "stdout",
          "text": [
            "      France  Germany  Spain\n",
            "0          1        0      0\n",
            "1          0        0      1\n",
            "2          1        0      0\n",
            "3          1        0      0\n",
            "4          0        0      1\n",
            "...      ...      ...    ...\n",
            "9995       1        0      0\n",
            "9996       1        0      0\n",
            "9997       1        0      0\n",
            "9998       0        1      0\n",
            "9999       1        0      0\n",
            "\n",
            "[10000 rows x 3 columns]\n"
          ]
        }
      ],
      "source": [
        "# Extract and Encode `geography` categorical data\n",
        "geography = pd.get_dummies(df[\"Geography\"], drop_first=False)\n",
        "print(geography)"
      ]
    },
    {
      "cell_type": "code",
      "execution_count": 18,
      "metadata": {
        "id": "KmED4yxOp3Q_",
        "outputId": "b93bec61-c13f-4c86-db17-80f11af1d03c",
        "colab": {
          "base_uri": "https://localhost:8080/"
        }
      },
      "outputs": [
        {
          "output_type": "stream",
          "name": "stdout",
          "text": [
            "      Female  Male\n",
            "0          1     0\n",
            "1          1     0\n",
            "2          1     0\n",
            "3          1     0\n",
            "4          1     0\n",
            "...      ...   ...\n",
            "9995       0     1\n",
            "9996       0     1\n",
            "9997       1     0\n",
            "9998       0     1\n",
            "9999       1     0\n",
            "\n",
            "[10000 rows x 2 columns]\n"
          ]
        }
      ],
      "source": [
        "# Extract and Encode `gender` categorical data\n",
        "gender = pd.get_dummies(df[\"Gender\"], drop_first=False)\n",
        "print(gender)"
      ]
    },
    {
      "cell_type": "code",
      "execution_count": 19,
      "metadata": {
        "id": "SHMv3CIMp3RA",
        "outputId": "39a5a411-aa19-4931-a673-c30dea87bd8c",
        "colab": {
          "base_uri": "https://localhost:8080/",
          "height": 206
        }
      },
      "outputs": [
        {
          "output_type": "execute_result",
          "data": {
            "text/plain": [
              "   CreditScore Geography  Gender   Age  Tenure    Balance  NumOfProducts  \\\n",
              "0        619.0    France  Female  42.0       2       0.00            1.0   \n",
              "1        608.0     Spain  Female  41.0       1   83807.86            1.0   \n",
              "2        502.0    France  Female  42.0       8  159660.80            3.0   \n",
              "3        699.0    France  Female  39.0       1       0.00            2.0   \n",
              "4        850.0     Spain  Female  43.0       2  125510.82            1.0   \n",
              "\n",
              "   HasCrCard  IsActiveMember  EstimatedSalary  Exited  Female  Male  France  \\\n",
              "0          1               1        101348.88       1       1     0       1   \n",
              "1          0               1        112542.58       0       1     0       0   \n",
              "2          1               0        113931.57       1       1     0       1   \n",
              "3          0               0         93826.63       0       1     0       1   \n",
              "4          1               1         79084.10       0       1     0       0   \n",
              "\n",
              "   Germany  Spain  \n",
              "0        0      0  \n",
              "1        0      1  \n",
              "2        0      0  \n",
              "3        0      0  \n",
              "4        0      1  "
            ],
            "text/html": [
              "\n",
              "  <div id=\"df-c6e1642e-2e93-404a-8cc2-a5e3e04cab23\">\n",
              "    <div class=\"colab-df-container\">\n",
              "      <div>\n",
              "<style scoped>\n",
              "    .dataframe tbody tr th:only-of-type {\n",
              "        vertical-align: middle;\n",
              "    }\n",
              "\n",
              "    .dataframe tbody tr th {\n",
              "        vertical-align: top;\n",
              "    }\n",
              "\n",
              "    .dataframe thead th {\n",
              "        text-align: right;\n",
              "    }\n",
              "</style>\n",
              "<table border=\"1\" class=\"dataframe\">\n",
              "  <thead>\n",
              "    <tr style=\"text-align: right;\">\n",
              "      <th></th>\n",
              "      <th>CreditScore</th>\n",
              "      <th>Geography</th>\n",
              "      <th>Gender</th>\n",
              "      <th>Age</th>\n",
              "      <th>Tenure</th>\n",
              "      <th>Balance</th>\n",
              "      <th>NumOfProducts</th>\n",
              "      <th>HasCrCard</th>\n",
              "      <th>IsActiveMember</th>\n",
              "      <th>EstimatedSalary</th>\n",
              "      <th>Exited</th>\n",
              "      <th>Female</th>\n",
              "      <th>Male</th>\n",
              "      <th>France</th>\n",
              "      <th>Germany</th>\n",
              "      <th>Spain</th>\n",
              "    </tr>\n",
              "  </thead>\n",
              "  <tbody>\n",
              "    <tr>\n",
              "      <th>0</th>\n",
              "      <td>619.0</td>\n",
              "      <td>France</td>\n",
              "      <td>Female</td>\n",
              "      <td>42.0</td>\n",
              "      <td>2</td>\n",
              "      <td>0.00</td>\n",
              "      <td>1.0</td>\n",
              "      <td>1</td>\n",
              "      <td>1</td>\n",
              "      <td>101348.88</td>\n",
              "      <td>1</td>\n",
              "      <td>1</td>\n",
              "      <td>0</td>\n",
              "      <td>1</td>\n",
              "      <td>0</td>\n",
              "      <td>0</td>\n",
              "    </tr>\n",
              "    <tr>\n",
              "      <th>1</th>\n",
              "      <td>608.0</td>\n",
              "      <td>Spain</td>\n",
              "      <td>Female</td>\n",
              "      <td>41.0</td>\n",
              "      <td>1</td>\n",
              "      <td>83807.86</td>\n",
              "      <td>1.0</td>\n",
              "      <td>0</td>\n",
              "      <td>1</td>\n",
              "      <td>112542.58</td>\n",
              "      <td>0</td>\n",
              "      <td>1</td>\n",
              "      <td>0</td>\n",
              "      <td>0</td>\n",
              "      <td>0</td>\n",
              "      <td>1</td>\n",
              "    </tr>\n",
              "    <tr>\n",
              "      <th>2</th>\n",
              "      <td>502.0</td>\n",
              "      <td>France</td>\n",
              "      <td>Female</td>\n",
              "      <td>42.0</td>\n",
              "      <td>8</td>\n",
              "      <td>159660.80</td>\n",
              "      <td>3.0</td>\n",
              "      <td>1</td>\n",
              "      <td>0</td>\n",
              "      <td>113931.57</td>\n",
              "      <td>1</td>\n",
              "      <td>1</td>\n",
              "      <td>0</td>\n",
              "      <td>1</td>\n",
              "      <td>0</td>\n",
              "      <td>0</td>\n",
              "    </tr>\n",
              "    <tr>\n",
              "      <th>3</th>\n",
              "      <td>699.0</td>\n",
              "      <td>France</td>\n",
              "      <td>Female</td>\n",
              "      <td>39.0</td>\n",
              "      <td>1</td>\n",
              "      <td>0.00</td>\n",
              "      <td>2.0</td>\n",
              "      <td>0</td>\n",
              "      <td>0</td>\n",
              "      <td>93826.63</td>\n",
              "      <td>0</td>\n",
              "      <td>1</td>\n",
              "      <td>0</td>\n",
              "      <td>1</td>\n",
              "      <td>0</td>\n",
              "      <td>0</td>\n",
              "    </tr>\n",
              "    <tr>\n",
              "      <th>4</th>\n",
              "      <td>850.0</td>\n",
              "      <td>Spain</td>\n",
              "      <td>Female</td>\n",
              "      <td>43.0</td>\n",
              "      <td>2</td>\n",
              "      <td>125510.82</td>\n",
              "      <td>1.0</td>\n",
              "      <td>1</td>\n",
              "      <td>1</td>\n",
              "      <td>79084.10</td>\n",
              "      <td>0</td>\n",
              "      <td>1</td>\n",
              "      <td>0</td>\n",
              "      <td>0</td>\n",
              "      <td>0</td>\n",
              "      <td>1</td>\n",
              "    </tr>\n",
              "  </tbody>\n",
              "</table>\n",
              "</div>\n",
              "      <button class=\"colab-df-convert\" onclick=\"convertToInteractive('df-c6e1642e-2e93-404a-8cc2-a5e3e04cab23')\"\n",
              "              title=\"Convert this dataframe to an interactive table.\"\n",
              "              style=\"display:none;\">\n",
              "        \n",
              "  <svg xmlns=\"http://www.w3.org/2000/svg\" height=\"24px\"viewBox=\"0 0 24 24\"\n",
              "       width=\"24px\">\n",
              "    <path d=\"M0 0h24v24H0V0z\" fill=\"none\"/>\n",
              "    <path d=\"M18.56 5.44l.94 2.06.94-2.06 2.06-.94-2.06-.94-.94-2.06-.94 2.06-2.06.94zm-11 1L8.5 8.5l.94-2.06 2.06-.94-2.06-.94L8.5 2.5l-.94 2.06-2.06.94zm10 10l.94 2.06.94-2.06 2.06-.94-2.06-.94-.94-2.06-.94 2.06-2.06.94z\"/><path d=\"M17.41 7.96l-1.37-1.37c-.4-.4-.92-.59-1.43-.59-.52 0-1.04.2-1.43.59L10.3 9.45l-7.72 7.72c-.78.78-.78 2.05 0 2.83L4 21.41c.39.39.9.59 1.41.59.51 0 1.02-.2 1.41-.59l7.78-7.78 2.81-2.81c.8-.78.8-2.07 0-2.86zM5.41 20L4 18.59l7.72-7.72 1.47 1.35L5.41 20z\"/>\n",
              "  </svg>\n",
              "      </button>\n",
              "      \n",
              "  <style>\n",
              "    .colab-df-container {\n",
              "      display:flex;\n",
              "      flex-wrap:wrap;\n",
              "      gap: 12px;\n",
              "    }\n",
              "\n",
              "    .colab-df-convert {\n",
              "      background-color: #E8F0FE;\n",
              "      border: none;\n",
              "      border-radius: 50%;\n",
              "      cursor: pointer;\n",
              "      display: none;\n",
              "      fill: #1967D2;\n",
              "      height: 32px;\n",
              "      padding: 0 0 0 0;\n",
              "      width: 32px;\n",
              "    }\n",
              "\n",
              "    .colab-df-convert:hover {\n",
              "      background-color: #E2EBFA;\n",
              "      box-shadow: 0px 1px 2px rgba(60, 64, 67, 0.3), 0px 1px 3px 1px rgba(60, 64, 67, 0.15);\n",
              "      fill: #174EA6;\n",
              "    }\n",
              "\n",
              "    [theme=dark] .colab-df-convert {\n",
              "      background-color: #3B4455;\n",
              "      fill: #D2E3FC;\n",
              "    }\n",
              "\n",
              "    [theme=dark] .colab-df-convert:hover {\n",
              "      background-color: #434B5C;\n",
              "      box-shadow: 0px 1px 3px 1px rgba(0, 0, 0, 0.15);\n",
              "      filter: drop-shadow(0px 1px 2px rgba(0, 0, 0, 0.3));\n",
              "      fill: #FFFFFF;\n",
              "    }\n",
              "  </style>\n",
              "\n",
              "      <script>\n",
              "        const buttonEl =\n",
              "          document.querySelector('#df-c6e1642e-2e93-404a-8cc2-a5e3e04cab23 button.colab-df-convert');\n",
              "        buttonEl.style.display =\n",
              "          google.colab.kernel.accessAllowed ? 'block' : 'none';\n",
              "\n",
              "        async function convertToInteractive(key) {\n",
              "          const element = document.querySelector('#df-c6e1642e-2e93-404a-8cc2-a5e3e04cab23');\n",
              "          const dataTable =\n",
              "            await google.colab.kernel.invokeFunction('convertToInteractive',\n",
              "                                                     [key], {});\n",
              "          if (!dataTable) return;\n",
              "\n",
              "          const docLinkHtml = 'Like what you see? Visit the ' +\n",
              "            '<a target=\"_blank\" href=https://colab.research.google.com/notebooks/data_table.ipynb>data table notebook</a>'\n",
              "            + ' to learn more about interactive tables.';\n",
              "          element.innerHTML = '';\n",
              "          dataTable['output_type'] = 'display_data';\n",
              "          await google.colab.output.renderOutput(dataTable, element);\n",
              "          const docLink = document.createElement('div');\n",
              "          docLink.innerHTML = docLinkHtml;\n",
              "          element.appendChild(docLink);\n",
              "        }\n",
              "      </script>\n",
              "    </div>\n",
              "  </div>\n",
              "  "
            ]
          },
          "metadata": {},
          "execution_count": 19
        }
      ],
      "source": [
        "df = pd.concat([df, gender, geography], axis=1)\n",
        "df.describe()\n",
        "df.head()"
      ]
    },
    {
      "cell_type": "code",
      "execution_count": 20,
      "metadata": {
        "id": "NCcgLsbWp3RA",
        "colab": {
          "base_uri": "https://localhost:8080/",
          "height": 206
        },
        "outputId": "4d3ad2e4-d667-45bc-ff8c-e5006acf912b"
      },
      "outputs": [
        {
          "output_type": "execute_result",
          "data": {
            "text/plain": [
              "   CreditScore   Age  Tenure    Balance  NumOfProducts  HasCrCard  \\\n",
              "0        619.0  42.0       2       0.00            1.0          1   \n",
              "1        608.0  41.0       1   83807.86            1.0          0   \n",
              "2        502.0  42.0       8  159660.80            3.0          1   \n",
              "3        699.0  39.0       1       0.00            2.0          0   \n",
              "4        850.0  43.0       2  125510.82            1.0          1   \n",
              "\n",
              "   IsActiveMember  EstimatedSalary  Exited  Female  Male  France  Germany  \\\n",
              "0               1        101348.88       1       1     0       1        0   \n",
              "1               1        112542.58       0       1     0       0        0   \n",
              "2               0        113931.57       1       1     0       1        0   \n",
              "3               0         93826.63       0       1     0       1        0   \n",
              "4               1         79084.10       0       1     0       0        0   \n",
              "\n",
              "   Spain  \n",
              "0      0  \n",
              "1      1  \n",
              "2      0  \n",
              "3      0  \n",
              "4      1  "
            ],
            "text/html": [
              "\n",
              "  <div id=\"df-2bc460cd-883d-4d25-96ab-a91e1b64c184\">\n",
              "    <div class=\"colab-df-container\">\n",
              "      <div>\n",
              "<style scoped>\n",
              "    .dataframe tbody tr th:only-of-type {\n",
              "        vertical-align: middle;\n",
              "    }\n",
              "\n",
              "    .dataframe tbody tr th {\n",
              "        vertical-align: top;\n",
              "    }\n",
              "\n",
              "    .dataframe thead th {\n",
              "        text-align: right;\n",
              "    }\n",
              "</style>\n",
              "<table border=\"1\" class=\"dataframe\">\n",
              "  <thead>\n",
              "    <tr style=\"text-align: right;\">\n",
              "      <th></th>\n",
              "      <th>CreditScore</th>\n",
              "      <th>Age</th>\n",
              "      <th>Tenure</th>\n",
              "      <th>Balance</th>\n",
              "      <th>NumOfProducts</th>\n",
              "      <th>HasCrCard</th>\n",
              "      <th>IsActiveMember</th>\n",
              "      <th>EstimatedSalary</th>\n",
              "      <th>Exited</th>\n",
              "      <th>Female</th>\n",
              "      <th>Male</th>\n",
              "      <th>France</th>\n",
              "      <th>Germany</th>\n",
              "      <th>Spain</th>\n",
              "    </tr>\n",
              "  </thead>\n",
              "  <tbody>\n",
              "    <tr>\n",
              "      <th>0</th>\n",
              "      <td>619.0</td>\n",
              "      <td>42.0</td>\n",
              "      <td>2</td>\n",
              "      <td>0.00</td>\n",
              "      <td>1.0</td>\n",
              "      <td>1</td>\n",
              "      <td>1</td>\n",
              "      <td>101348.88</td>\n",
              "      <td>1</td>\n",
              "      <td>1</td>\n",
              "      <td>0</td>\n",
              "      <td>1</td>\n",
              "      <td>0</td>\n",
              "      <td>0</td>\n",
              "    </tr>\n",
              "    <tr>\n",
              "      <th>1</th>\n",
              "      <td>608.0</td>\n",
              "      <td>41.0</td>\n",
              "      <td>1</td>\n",
              "      <td>83807.86</td>\n",
              "      <td>1.0</td>\n",
              "      <td>0</td>\n",
              "      <td>1</td>\n",
              "      <td>112542.58</td>\n",
              "      <td>0</td>\n",
              "      <td>1</td>\n",
              "      <td>0</td>\n",
              "      <td>0</td>\n",
              "      <td>0</td>\n",
              "      <td>1</td>\n",
              "    </tr>\n",
              "    <tr>\n",
              "      <th>2</th>\n",
              "      <td>502.0</td>\n",
              "      <td>42.0</td>\n",
              "      <td>8</td>\n",
              "      <td>159660.80</td>\n",
              "      <td>3.0</td>\n",
              "      <td>1</td>\n",
              "      <td>0</td>\n",
              "      <td>113931.57</td>\n",
              "      <td>1</td>\n",
              "      <td>1</td>\n",
              "      <td>0</td>\n",
              "      <td>1</td>\n",
              "      <td>0</td>\n",
              "      <td>0</td>\n",
              "    </tr>\n",
              "    <tr>\n",
              "      <th>3</th>\n",
              "      <td>699.0</td>\n",
              "      <td>39.0</td>\n",
              "      <td>1</td>\n",
              "      <td>0.00</td>\n",
              "      <td>2.0</td>\n",
              "      <td>0</td>\n",
              "      <td>0</td>\n",
              "      <td>93826.63</td>\n",
              "      <td>0</td>\n",
              "      <td>1</td>\n",
              "      <td>0</td>\n",
              "      <td>1</td>\n",
              "      <td>0</td>\n",
              "      <td>0</td>\n",
              "    </tr>\n",
              "    <tr>\n",
              "      <th>4</th>\n",
              "      <td>850.0</td>\n",
              "      <td>43.0</td>\n",
              "      <td>2</td>\n",
              "      <td>125510.82</td>\n",
              "      <td>1.0</td>\n",
              "      <td>1</td>\n",
              "      <td>1</td>\n",
              "      <td>79084.10</td>\n",
              "      <td>0</td>\n",
              "      <td>1</td>\n",
              "      <td>0</td>\n",
              "      <td>0</td>\n",
              "      <td>0</td>\n",
              "      <td>1</td>\n",
              "    </tr>\n",
              "  </tbody>\n",
              "</table>\n",
              "</div>\n",
              "      <button class=\"colab-df-convert\" onclick=\"convertToInteractive('df-2bc460cd-883d-4d25-96ab-a91e1b64c184')\"\n",
              "              title=\"Convert this dataframe to an interactive table.\"\n",
              "              style=\"display:none;\">\n",
              "        \n",
              "  <svg xmlns=\"http://www.w3.org/2000/svg\" height=\"24px\"viewBox=\"0 0 24 24\"\n",
              "       width=\"24px\">\n",
              "    <path d=\"M0 0h24v24H0V0z\" fill=\"none\"/>\n",
              "    <path d=\"M18.56 5.44l.94 2.06.94-2.06 2.06-.94-2.06-.94-.94-2.06-.94 2.06-2.06.94zm-11 1L8.5 8.5l.94-2.06 2.06-.94-2.06-.94L8.5 2.5l-.94 2.06-2.06.94zm10 10l.94 2.06.94-2.06 2.06-.94-2.06-.94-.94-2.06-.94 2.06-2.06.94z\"/><path d=\"M17.41 7.96l-1.37-1.37c-.4-.4-.92-.59-1.43-.59-.52 0-1.04.2-1.43.59L10.3 9.45l-7.72 7.72c-.78.78-.78 2.05 0 2.83L4 21.41c.39.39.9.59 1.41.59.51 0 1.02-.2 1.41-.59l7.78-7.78 2.81-2.81c.8-.78.8-2.07 0-2.86zM5.41 20L4 18.59l7.72-7.72 1.47 1.35L5.41 20z\"/>\n",
              "  </svg>\n",
              "      </button>\n",
              "      \n",
              "  <style>\n",
              "    .colab-df-container {\n",
              "      display:flex;\n",
              "      flex-wrap:wrap;\n",
              "      gap: 12px;\n",
              "    }\n",
              "\n",
              "    .colab-df-convert {\n",
              "      background-color: #E8F0FE;\n",
              "      border: none;\n",
              "      border-radius: 50%;\n",
              "      cursor: pointer;\n",
              "      display: none;\n",
              "      fill: #1967D2;\n",
              "      height: 32px;\n",
              "      padding: 0 0 0 0;\n",
              "      width: 32px;\n",
              "    }\n",
              "\n",
              "    .colab-df-convert:hover {\n",
              "      background-color: #E2EBFA;\n",
              "      box-shadow: 0px 1px 2px rgba(60, 64, 67, 0.3), 0px 1px 3px 1px rgba(60, 64, 67, 0.15);\n",
              "      fill: #174EA6;\n",
              "    }\n",
              "\n",
              "    [theme=dark] .colab-df-convert {\n",
              "      background-color: #3B4455;\n",
              "      fill: #D2E3FC;\n",
              "    }\n",
              "\n",
              "    [theme=dark] .colab-df-convert:hover {\n",
              "      background-color: #434B5C;\n",
              "      box-shadow: 0px 1px 3px 1px rgba(0, 0, 0, 0.15);\n",
              "      filter: drop-shadow(0px 1px 2px rgba(0, 0, 0, 0.3));\n",
              "      fill: #FFFFFF;\n",
              "    }\n",
              "  </style>\n",
              "\n",
              "      <script>\n",
              "        const buttonEl =\n",
              "          document.querySelector('#df-2bc460cd-883d-4d25-96ab-a91e1b64c184 button.colab-df-convert');\n",
              "        buttonEl.style.display =\n",
              "          google.colab.kernel.accessAllowed ? 'block' : 'none';\n",
              "\n",
              "        async function convertToInteractive(key) {\n",
              "          const element = document.querySelector('#df-2bc460cd-883d-4d25-96ab-a91e1b64c184');\n",
              "          const dataTable =\n",
              "            await google.colab.kernel.invokeFunction('convertToInteractive',\n",
              "                                                     [key], {});\n",
              "          if (!dataTable) return;\n",
              "\n",
              "          const docLinkHtml = 'Like what you see? Visit the ' +\n",
              "            '<a target=\"_blank\" href=https://colab.research.google.com/notebooks/data_table.ipynb>data table notebook</a>'\n",
              "            + ' to learn more about interactive tables.';\n",
              "          element.innerHTML = '';\n",
              "          dataTable['output_type'] = 'display_data';\n",
              "          await google.colab.output.renderOutput(dataTable, element);\n",
              "          const docLink = document.createElement('div');\n",
              "          docLink.innerHTML = docLinkHtml;\n",
              "          element.appendChild(docLink);\n",
              "        }\n",
              "      </script>\n",
              "    </div>\n",
              "  </div>\n",
              "  "
            ]
          },
          "metadata": {},
          "execution_count": 20
        }
      ],
      "source": [
        "# Merge back the encoded values into the dataset\n",
        "df.drop([\"Gender\", \"Geography\"], axis=1, inplace=True)\n",
        "df.describe()\n",
        "df.head()"
      ]
    },
    {
      "cell_type": "markdown",
      "metadata": {
        "id": "Fdq6kjcXp3RB"
      },
      "source": [
        "## 8. Split the data into dependent and independent variables"
      ]
    },
    {
      "cell_type": "code",
      "execution_count": 21,
      "metadata": {
        "id": "HyXBPQCLp3RB",
        "colab": {
          "base_uri": "https://localhost:8080/"
        },
        "outputId": "3173e2a9-654f-4fc6-eebd-d027795eaa85"
      },
      "outputs": [
        {
          "output_type": "stream",
          "name": "stdout",
          "text": [
            "(10000, 13)\n"
          ]
        }
      ],
      "source": [
        "# Independent variables\n",
        "x = df.drop(['Exited'],axis=1)\n",
        "print(x.shape)"
      ]
    },
    {
      "cell_type": "code",
      "execution_count": 22,
      "metadata": {
        "id": "x1TYAW02p3RC",
        "outputId": "3e306473-5418-42cb-f60b-815c4b759cf2",
        "colab": {
          "base_uri": "https://localhost:8080/"
        }
      },
      "outputs": [
        {
          "output_type": "stream",
          "name": "stdout",
          "text": [
            "(10000,)\n"
          ]
        }
      ],
      "source": [
        "# Dependent variables\n",
        "y = df['Exited']\n",
        "print(y.shape)"
      ]
    },
    {
      "cell_type": "markdown",
      "metadata": {
        "id": "dPs19cOZp3RF"
      },
      "source": [
        "## 9. Scale the independent variables"
      ]
    },
    {
      "cell_type": "code",
      "execution_count": 23,
      "metadata": {
        "id": "xlYGtvJfp3RF",
        "colab": {
          "base_uri": "https://localhost:8080/"
        },
        "outputId": "ea20742d-81e9-48af-af14-a52a049dd33f"
      },
      "outputs": [
        {
          "output_type": "stream",
          "name": "stdout",
          "text": [
            "[[-0.3327168   0.47806838 -1.04175968 ...  0.99720391 -0.57873591\n",
            "  -0.57380915]\n",
            " [-0.44721972  0.36446646 -1.38753759 ... -1.00280393 -0.57873591\n",
            "   1.74273971]\n",
            " [-1.55061149  0.47806838  1.03290776 ...  0.99720391 -0.57873591\n",
            "  -0.57380915]\n",
            " ...\n",
            " [ 0.60412526 -0.20354316  0.68712986 ...  0.99720391 -0.57873591\n",
            "  -0.57380915]\n",
            " [ 1.25991471  0.47806838 -0.69598177 ... -1.00280393  1.72790383\n",
            "  -0.57380915]\n",
            " [ 1.46810183 -1.11235856 -0.35020386 ...  0.99720391 -0.57873591\n",
            "  -0.57380915]]\n"
          ]
        }
      ],
      "source": [
        "sc = StandardScaler()\n",
        "x = sc.fit_transform(x)\n",
        "print(x)"
      ]
    },
    {
      "cell_type": "markdown",
      "metadata": {
        "id": "R6unKtA1p3RH"
      },
      "source": [
        "## 10. Split the data into training and testing"
      ]
    },
    {
      "cell_type": "code",
      "execution_count": 25,
      "metadata": {
        "id": "-rKw_d7Up3RH",
        "colab": {
          "base_uri": "https://localhost:8080/"
        },
        "outputId": "8424cda5-6882-4785-9658-be451652c7e5"
      },
      "outputs": [
        {
          "output_type": "stream",
          "name": "stdout",
          "text": [
            "Train Features Size: (2500, 13)\n",
            "Train Target Size: (2500,)\n",
            "Test Features Size: (7500, 13)\n",
            "Test Target Size: (7500,)\n"
          ]
        }
      ],
      "source": [
        "x_train, x_test, y_train, y_test = train_test_split(x, y, test_size=0.75, random_state=0)\n",
        "print(\"Train Features Size:\", x_train.shape)\n",
        "print(\"Train Target Size:\", y_train.shape)\n",
        "print(\"Test Features Size:\", x_test.shape)\n",
        "print(\"Test Target Size:\", y_test.shape)"
      ]
    }
  ],
  "metadata": {
    "kernelspec": {
      "display_name": "Python 3 (ipykernel)",
      "language": "python",
      "name": "python3"
    },
    "language_info": {
      "codemirror_mode": {
        "name": "ipython",
        "version": 3
      },
      "file_extension": ".py",
      "mimetype": "text/x-python",
      "name": "python",
      "nbconvert_exporter": "python",
      "pygments_lexer": "ipython3",
      "version": "3.9.1"
    },
    "vscode": {
      "interpreter": {
        "hash": "ad29c2e1e68b8c441d4e86c757a9b26c6a92be6630b603892207701c17285d5d"
      }
    },
    "colab": {
      "provenance": [],
      "collapsed_sections": []
    }
  },
  "nbformat": 4,
  "nbformat_minor": 0
}